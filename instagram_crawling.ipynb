{
 "cells": [
  {
   "cell_type": "code",
   "execution_count": 1,
   "id": "937c41e6",
   "metadata": {},
   "outputs": [],
   "source": [
    "from selenium import webdriver\n",
    "from selenium.webdriver.common.by import By \n",
    "from selenium.webdriver.support.ui import WebDriverWait \n",
    "from selenium.webdriver.support import expected_conditions as EC \n",
    "import time \n",
    "import re \n",
    "import json \n",
    "import pandas as pd\n",
    "from datetime import datetime"
   ]
  },
  {
   "cell_type": "markdown",
   "id": "aa77a94e",
   "metadata": {},
   "source": [
    "## id 와 password 입력"
   ]
  },
  {
   "cell_type": "code",
   "execution_count": 2,
   "id": "29a3e92a",
   "metadata": {},
   "outputs": [],
   "source": [
    "user_id=\"\"\n",
    "user_passwd=\"\" "
   ]
  },
  {
   "cell_type": "code",
   "execution_count": 3,
   "id": "ea04ee77",
   "metadata": {},
   "outputs": [],
   "source": [
    "login_option=\"instagram\" # facebook or instagram \n",
    "driver_path=\"chromedriver.exe\" \n",
    "instagram_id_name=\"username\" \n",
    "instagram_pw_name=\"password\"\n",
    "instagram_login_btn=\".sqdOP.L3NKy.y3zKF \"\n",
    "instagram_information_save_name = \".sqdOP.yWX7d.y3zKF\"\n",
    "instagram_alarm_name = \".aOOlW.HoLwm\"\n",
    "is_information_save = False\n",
    "is_alarm_setting = False\n",
    "\n",
    "driver = webdriver.Chrome(\"./chromedriver\")"
   ]
  },
  {
   "cell_type": "code",
   "execution_count": 4,
   "id": "6dc7666a",
   "metadata": {},
   "outputs": [
    {
     "name": "stdout",
     "output_type": "stream",
     "text": [
      "login start - option instagram\n",
      "instagram\n"
     ]
    }
   ],
   "source": [
    "print(f\"login start - option {login_option}\")\n",
    "login_url = \"https://www.instagram.com/accounts/login/\"\n",
    "driver.get(login_url)\n",
    "print(login_option)"
   ]
  },
  {
   "cell_type": "code",
   "execution_count": 5,
   "id": "ad391bd3",
   "metadata": {},
   "outputs": [
    {
     "name": "stdout",
     "output_type": "stream",
     "text": [
      "instagram login fail\n"
     ]
    }
   ],
   "source": [
    "if login_option == \"instagram\": \n",
    "    time.sleep(2)\n",
    "    try: \n",
    "        instagram_id_form = driver.find_element_by_name(instagram_id_name) \n",
    "        instagram_id_form.send_keys(user_id) \n",
    "        \n",
    "        instagram_pw_form = driver.find_element_by_name(instagram_pw_name) \n",
    "        instagram_pw_form.send_keys(user_passwd) \n",
    "        \n",
    "        login_ok_button = driver.find_element_by_css_selector(instagram_login_btn) \n",
    "        login_ok_button.click() \n",
    "        is_login_success = True\n",
    "        \n",
    "        time.sleep(3)\n",
    "        if is_information_save == False and is_alarm_setting == False:\n",
    "            information_save_btn = driver.find_element_by_css_selector(instagram_information_save_name)\n",
    "            information_save_btn.click()\n",
    "            is_information_save = True\n",
    "            \n",
    "            alarm_setting_btn = driver.find_element_by_css_selector(instagram_alarm_name)\n",
    "            alarm_setting_btn.click()\n",
    "            is_alarm_setting = True\n",
    "            \n",
    "    except: \n",
    "        print(\"instagram login fail\") \n",
    "        is_login_success = False"
   ]
  },
  {
   "cell_type": "markdown",
   "id": "f9c5766d",
   "metadata": {},
   "source": [
    "## 위 내용까지 로그인"
   ]
  },
  {
   "cell_type": "code",
   "execution_count": 11,
   "id": "90bcf655",
   "metadata": {},
   "outputs": [
    {
     "ename": "NoSuchElementException",
     "evalue": "Message: no such element: Unable to locate element: {\"method\":\"xpath\",\"selector\":\"/html/body/div[1]/section/nav/div[2]/div/div/div[3]/div/div[6]/span\"}\n  (Session info: chrome=98.0.4758.102)\n",
     "output_type": "error",
     "traceback": [
      "\u001b[1;31m---------------------------------------------------------------------------\u001b[0m",
      "\u001b[1;31mNoSuchElementException\u001b[0m                    Traceback (most recent call last)",
      "\u001b[1;32m~\\AppData\\Local\\Temp/ipykernel_21964/788337433.py\u001b[0m in \u001b[0;36m<module>\u001b[1;34m\u001b[0m\n\u001b[0;32m      1\u001b[0m \u001b[0mmy_account_xpath\u001b[0m \u001b[1;33m=\u001b[0m \u001b[1;34m\"/html/body/div[1]/section/nav/div[2]/div/div/div[3]/div/div[6]/span\"\u001b[0m\u001b[1;33m\u001b[0m\u001b[1;33m\u001b[0m\u001b[0m\n\u001b[1;32m----> 2\u001b[1;33m \u001b[0mmy_account_button\u001b[0m \u001b[1;33m=\u001b[0m \u001b[0mdriver\u001b[0m\u001b[1;33m.\u001b[0m\u001b[0mfind_element_by_xpath\u001b[0m\u001b[1;33m(\u001b[0m\u001b[0mmy_account_xpath\u001b[0m\u001b[1;33m)\u001b[0m\u001b[1;33m\u001b[0m\u001b[1;33m\u001b[0m\u001b[0m\n\u001b[0m\u001b[0;32m      3\u001b[0m \u001b[0mmy_account_button\u001b[0m\u001b[1;33m.\u001b[0m\u001b[0mclick\u001b[0m\u001b[1;33m(\u001b[0m\u001b[1;33m)\u001b[0m\u001b[1;33m\u001b[0m\u001b[1;33m\u001b[0m\u001b[0m\n\u001b[0;32m      4\u001b[0m \u001b[1;33m\u001b[0m\u001b[0m\n\u001b[0;32m      5\u001b[0m \u001b[0mmy_profile_full_xpath\u001b[0m \u001b[1;33m=\u001b[0m \u001b[1;34m\"/html/body/div[1]/section/nav/div[2]/div/div/div[3]/div/div[6]/div[2]/div[2]/div[2]/a[1]/div\"\u001b[0m\u001b[1;33m\u001b[0m\u001b[1;33m\u001b[0m\u001b[0m\n",
      "\u001b[1;32m~\\anaconda3\\lib\\site-packages\\selenium\\webdriver\\remote\\webdriver.py\u001b[0m in \u001b[0;36mfind_element_by_xpath\u001b[1;34m(self, xpath)\u001b[0m\n\u001b[0;32m    392\u001b[0m             \u001b[0melement\u001b[0m \u001b[1;33m=\u001b[0m \u001b[0mdriver\u001b[0m\u001b[1;33m.\u001b[0m\u001b[0mfind_element_by_xpath\u001b[0m\u001b[1;33m(\u001b[0m\u001b[1;34m'//div/td[1]'\u001b[0m\u001b[1;33m)\u001b[0m\u001b[1;33m\u001b[0m\u001b[1;33m\u001b[0m\u001b[0m\n\u001b[0;32m    393\u001b[0m         \"\"\"\n\u001b[1;32m--> 394\u001b[1;33m         \u001b[1;32mreturn\u001b[0m \u001b[0mself\u001b[0m\u001b[1;33m.\u001b[0m\u001b[0mfind_element\u001b[0m\u001b[1;33m(\u001b[0m\u001b[0mby\u001b[0m\u001b[1;33m=\u001b[0m\u001b[0mBy\u001b[0m\u001b[1;33m.\u001b[0m\u001b[0mXPATH\u001b[0m\u001b[1;33m,\u001b[0m \u001b[0mvalue\u001b[0m\u001b[1;33m=\u001b[0m\u001b[0mxpath\u001b[0m\u001b[1;33m)\u001b[0m\u001b[1;33m\u001b[0m\u001b[1;33m\u001b[0m\u001b[0m\n\u001b[0m\u001b[0;32m    395\u001b[0m \u001b[1;33m\u001b[0m\u001b[0m\n\u001b[0;32m    396\u001b[0m     \u001b[1;32mdef\u001b[0m \u001b[0mfind_elements_by_xpath\u001b[0m\u001b[1;33m(\u001b[0m\u001b[0mself\u001b[0m\u001b[1;33m,\u001b[0m \u001b[0mxpath\u001b[0m\u001b[1;33m)\u001b[0m\u001b[1;33m:\u001b[0m\u001b[1;33m\u001b[0m\u001b[1;33m\u001b[0m\u001b[0m\n",
      "\u001b[1;32m~\\anaconda3\\lib\\site-packages\\selenium\\webdriver\\remote\\webdriver.py\u001b[0m in \u001b[0;36mfind_element\u001b[1;34m(self, by, value)\u001b[0m\n\u001b[0;32m    974\u001b[0m                 \u001b[0mby\u001b[0m \u001b[1;33m=\u001b[0m \u001b[0mBy\u001b[0m\u001b[1;33m.\u001b[0m\u001b[0mCSS_SELECTOR\u001b[0m\u001b[1;33m\u001b[0m\u001b[1;33m\u001b[0m\u001b[0m\n\u001b[0;32m    975\u001b[0m                 \u001b[0mvalue\u001b[0m \u001b[1;33m=\u001b[0m \u001b[1;34m'[name=\"%s\"]'\u001b[0m \u001b[1;33m%\u001b[0m \u001b[0mvalue\u001b[0m\u001b[1;33m\u001b[0m\u001b[1;33m\u001b[0m\u001b[0m\n\u001b[1;32m--> 976\u001b[1;33m         return self.execute(Command.FIND_ELEMENT, {\n\u001b[0m\u001b[0;32m    977\u001b[0m             \u001b[1;34m'using'\u001b[0m\u001b[1;33m:\u001b[0m \u001b[0mby\u001b[0m\u001b[1;33m,\u001b[0m\u001b[1;33m\u001b[0m\u001b[1;33m\u001b[0m\u001b[0m\n\u001b[0;32m    978\u001b[0m             'value': value})['value']\n",
      "\u001b[1;32m~\\anaconda3\\lib\\site-packages\\selenium\\webdriver\\remote\\webdriver.py\u001b[0m in \u001b[0;36mexecute\u001b[1;34m(self, driver_command, params)\u001b[0m\n\u001b[0;32m    319\u001b[0m         \u001b[0mresponse\u001b[0m \u001b[1;33m=\u001b[0m \u001b[0mself\u001b[0m\u001b[1;33m.\u001b[0m\u001b[0mcommand_executor\u001b[0m\u001b[1;33m.\u001b[0m\u001b[0mexecute\u001b[0m\u001b[1;33m(\u001b[0m\u001b[0mdriver_command\u001b[0m\u001b[1;33m,\u001b[0m \u001b[0mparams\u001b[0m\u001b[1;33m)\u001b[0m\u001b[1;33m\u001b[0m\u001b[1;33m\u001b[0m\u001b[0m\n\u001b[0;32m    320\u001b[0m         \u001b[1;32mif\u001b[0m \u001b[0mresponse\u001b[0m\u001b[1;33m:\u001b[0m\u001b[1;33m\u001b[0m\u001b[1;33m\u001b[0m\u001b[0m\n\u001b[1;32m--> 321\u001b[1;33m             \u001b[0mself\u001b[0m\u001b[1;33m.\u001b[0m\u001b[0merror_handler\u001b[0m\u001b[1;33m.\u001b[0m\u001b[0mcheck_response\u001b[0m\u001b[1;33m(\u001b[0m\u001b[0mresponse\u001b[0m\u001b[1;33m)\u001b[0m\u001b[1;33m\u001b[0m\u001b[1;33m\u001b[0m\u001b[0m\n\u001b[0m\u001b[0;32m    322\u001b[0m             response['value'] = self._unwrap_value(\n\u001b[0;32m    323\u001b[0m                 response.get('value', None))\n",
      "\u001b[1;32m~\\anaconda3\\lib\\site-packages\\selenium\\webdriver\\remote\\errorhandler.py\u001b[0m in \u001b[0;36mcheck_response\u001b[1;34m(self, response)\u001b[0m\n\u001b[0;32m    240\u001b[0m                 \u001b[0malert_text\u001b[0m \u001b[1;33m=\u001b[0m \u001b[0mvalue\u001b[0m\u001b[1;33m[\u001b[0m\u001b[1;34m'alert'\u001b[0m\u001b[1;33m]\u001b[0m\u001b[1;33m.\u001b[0m\u001b[0mget\u001b[0m\u001b[1;33m(\u001b[0m\u001b[1;34m'text'\u001b[0m\u001b[1;33m)\u001b[0m\u001b[1;33m\u001b[0m\u001b[1;33m\u001b[0m\u001b[0m\n\u001b[0;32m    241\u001b[0m             \u001b[1;32mraise\u001b[0m \u001b[0mexception_class\u001b[0m\u001b[1;33m(\u001b[0m\u001b[0mmessage\u001b[0m\u001b[1;33m,\u001b[0m \u001b[0mscreen\u001b[0m\u001b[1;33m,\u001b[0m \u001b[0mstacktrace\u001b[0m\u001b[1;33m,\u001b[0m \u001b[0malert_text\u001b[0m\u001b[1;33m)\u001b[0m\u001b[1;33m\u001b[0m\u001b[1;33m\u001b[0m\u001b[0m\n\u001b[1;32m--> 242\u001b[1;33m         \u001b[1;32mraise\u001b[0m \u001b[0mexception_class\u001b[0m\u001b[1;33m(\u001b[0m\u001b[0mmessage\u001b[0m\u001b[1;33m,\u001b[0m \u001b[0mscreen\u001b[0m\u001b[1;33m,\u001b[0m \u001b[0mstacktrace\u001b[0m\u001b[1;33m)\u001b[0m\u001b[1;33m\u001b[0m\u001b[1;33m\u001b[0m\u001b[0m\n\u001b[0m\u001b[0;32m    243\u001b[0m \u001b[1;33m\u001b[0m\u001b[0m\n\u001b[0;32m    244\u001b[0m     \u001b[1;32mdef\u001b[0m \u001b[0m_value_or_default\u001b[0m\u001b[1;33m(\u001b[0m\u001b[0mself\u001b[0m\u001b[1;33m,\u001b[0m \u001b[0mobj\u001b[0m\u001b[1;33m,\u001b[0m \u001b[0mkey\u001b[0m\u001b[1;33m,\u001b[0m \u001b[0mdefault\u001b[0m\u001b[1;33m)\u001b[0m\u001b[1;33m:\u001b[0m\u001b[1;33m\u001b[0m\u001b[1;33m\u001b[0m\u001b[0m\n",
      "\u001b[1;31mNoSuchElementException\u001b[0m: Message: no such element: Unable to locate element: {\"method\":\"xpath\",\"selector\":\"/html/body/div[1]/section/nav/div[2]/div/div/div[3]/div/div[6]/span\"}\n  (Session info: chrome=98.0.4758.102)\n"
     ]
    }
   ],
   "source": [
    "my_account_xpath = \"/html/body/div[1]/section/nav/div[2]/div/div/div[3]/div/div[6]/span\"\n",
    "my_account_button = driver.find_element_by_xpath(my_account_xpath)\n",
    "my_account_button.click()\n",
    "\n",
    "my_profile_full_xpath = \"/html/body/div[1]/section/nav/div[2]/div/div/div[3]/div/div[6]/div[2]/div[2]/div[2]/a[1]/div\"\n",
    "my_profile_button = driver.find_element_by_xpath(my_profile_full_xpath)\n",
    "my_profile_button.click()"
   ]
  },
  {
   "cell_type": "code",
   "execution_count": null,
   "id": "5c0dc689",
   "metadata": {},
   "outputs": [],
   "source": [
    "time.sleep(1.5)\n",
    "# 게시물 개수\n",
    "post_count = driver.find_element_by_xpath(\"/html/body/div[1]/section/main/div/header/section/ul/li[1]/div/span\").text\n",
    "post_count = int(post_count)\n",
    "\n",
    "print(\"게시물 수 : \",post_count)"
   ]
  },
  {
   "cell_type": "code",
   "execution_count": null,
   "id": "527b6cc4",
   "metadata": {},
   "outputs": [],
   "source": [
    "# 첫 게시물\n",
    "first_post_css = \"a > div.eLAPa > div._9AhH0\"\n",
    "first_post_button = driver.find_element_by_css_selector(first_post_css)\n",
    "first_post_button.click()\n",
    "\n",
    "while True:\n",
    "    try:\n",
    "        button = driver.find_element_by_css_selector('body > div._2dDPU.CkGkG > div.zZYga > div > article > div.eo2As > div.EtaWk > ul > li > div > button > span')\n",
    "    except:\n",
    "        pass\n",
    "\n",
    "    if button is not None:\n",
    "        try:\n",
    "            driver.find_element_by_css_selector('body > div._2dDPU.CkGkG > div.zZYga > div > article > div.eo2As > div.EtaWk > ul > li > div > button > span').click()\n",
    "        except:\n",
    "            break\n",
    "\n",
    "# 대댓글 버튼 누르기\n",
    "buttons = driver.find_elements_by_css_selector('li > ul > li > div > button')\n",
    "\n",
    "for button in buttons:\n",
    "    button.send_keys(Keys.ENTER)"
   ]
  },
  {
   "cell_type": "code",
   "execution_count": null,
   "id": "abf96df1",
   "metadata": {},
   "outputs": [],
   "source": []
  },
  {
   "cell_type": "code",
   "execution_count": null,
   "id": "59862e3b",
   "metadata": {},
   "outputs": [],
   "source": []
  },
  {
   "cell_type": "code",
   "execution_count": 185,
   "id": "e25f0db4",
   "metadata": {},
   "outputs": [
    {
     "name": "stdout",
     "output_type": "stream",
     "text": [
      "date :  2021년 8월 29일\n",
      "place :  낙산사\n",
      "post_content :  개강 전 finale\n",
      ".\n",
      ".\n",
      ".\n",
      ".\n",
      ".\n",
      ".\n",
      ".\n",
      ".\n",
      ".\n",
      ".\n",
      "혜진 귤 왜 안까 ?\n",
      "tag :  \n",
      "date :  2021년 8월 8일\n",
      "place :  갤러리아 광교, Galleria Gwanggyo\n",
      "post_content :  곱상한 척✨\n",
      ".\n",
      ".\n",
      ".\n",
      ".\n",
      ".\n",
      ".\n",
      ".\n",
      ".\n",
      ".\n",
      ".\n",
      "디저트 폭주 예정❣️\n",
      "tag :  \n",
      "date :  2021년 7월 11일\n",
      "place :  하이서울유스호스텔 Hi Seoul Youth Hostel\n",
      "post_content :  나도 기본캠📸플래쉬 감성 ?\n",
      ".\n",
      ".\n",
      ".\n",
      ".\n",
      ".\n",
      ".\n",
      ".\n",
      ".\n",
      "포둉포둉한거바🐷\n",
      "tag :  \n",
      "date :  2021년 7월 11일\n",
      "place :  하이서울유스호스텔 Hi Seoul Youth Hostel\n",
      "post_content :  글램핑\n",
      ".\n",
      ".\n",
      ".\n",
      ".\n",
      ".\n",
      ".\n",
      ".\n",
      ".\n",
      ".\n",
      ".\n",
      ".\n",
      ".\n",
      "인 척 ….\n",
      "tag :  \n",
      "date :  2021년 5월 6일\n",
      "place :  익선동\n",
      "post_content :  간만에 🙈\n",
      ".\n",
      ".\n",
      ".\n",
      ".\n",
      ".\n",
      ".\n",
      ".\n",
      ".\n",
      ".\n",
      "머리끈 너무 거슬리는데\n",
      "tag :  \n",
      "date :  2021년 3월 15일\n",
      "place :  Bar:eve - 바이브\n",
      "post_content :  이 포즈 이제 컨셉✨\n",
      "tag :  \n",
      "date :  2020년 11월 11일\n",
      "place :  롯데월드 (lotteworld)\n",
      "post_content :  늙어서 많이 못놀게따🙈\n",
      ".\n",
      ".\n",
      ".\n",
      ".\n",
      ".\n",
      ".\n",
      ".\n",
      ".\n",
      "나는 언제 남자친구랑 ?????\n",
      "tag :  \n",
      "date :  2020년 9월 2일\n",
      "place :  모이핀\n",
      "post_content :  안 올수가 없는 카페야\n",
      ".\n",
      ".\n",
      ".\n",
      ".\n",
      ".\n",
      ".\n",
      ".\n",
      "서울보다 좋아❣️\n",
      "tag :  \n",
      "date :  2020년 8월 12일\n",
      "place :  해운대 - Haeundae\n",
      "post_content :  바다는 힐링🌙\n",
      ".\n",
      ".\n",
      ".\n",
      ".\n",
      ".\n",
      ".\n",
      ".\n",
      "근데 비와서 추어\n",
      "tag :  \n",
      "date :  2020년 7월 24일\n",
      "place :  샤로수길\n",
      "post_content :  나도 모라도 올릴래\n",
      "tag :  \n",
      "date :  2020년 5월 28일\n",
      "place :  월미도\n",
      "post_content :  바다조아~ 아 좋아좋아🌊\n",
      "tag :  \n"
     ]
    }
   ],
   "source": [
    "# 첫 게시물\n",
    "first_post_css = \"a > div.eLAPa > div._9AhH0\"\n",
    "first_post_button = driver.find_element_by_css_selector(first_post_css)\n",
    "first_post_button.click()\n",
    "\n",
    "for i in range(post_count-1) :\n",
    "    # 날짜 데이터 크롤링\n",
    "    time.sleep(1.5)\n",
    "    #date = driver.find_element_by_css_selector(\"div.k_Q0X.I0_K8.NnvRN > a > time\").text\n",
    "    date = driver.find_element_by_css_selector('time.FH9sR.Nzb55')\n",
    "    date_info = pd.to_datetime(date.get_attribute('datetime')).normalize()\n",
    "    date = str(date_info.year) + \"년 \" + str(date_info.month) + \"월 \" + str(date_info.day) +\"일\"\n",
    "    print(\"date : \", date)\n",
    "\n",
    "    # 장소 크롤링\n",
    "    time.sleep(0.5)\n",
    "    try : \n",
    "        place = driver.find_element_by_css_selector(\"body > div.RnEpo._Yhr4 > div.pbNvD.QZZGH.bW6vo > div > article > div > div.HP0qD > div > div > div.UE9AK > div > header > div.o-MQd.z8cbW > div.M30cS > div > div.JF9hh > div > a\").text\n",
    "    except : \n",
    "        place = None\n",
    "    print(\"place : \",place)\n",
    "    \n",
    "    # 게시글 내용 크롤링\n",
    "    #body > div.RnEpo._Yhr4 > div.pbNvD.QZZGH.bW6vo > div > article > div > div.HP0qD > div > div > div.eo2As > div.EtaWk > ul\n",
    "    try : \n",
    "        post_content = driver.find_element_by_css_selector(\"div.C7I1f.X7jCj > div.C4VMK > span\").text    \n",
    "    except :\n",
    "        post_content = None\n",
    "    # 정제 필요\n",
    "    print(\"post_content : \", post_content)\n",
    "    \n",
    "    # 본문 속 태그\n",
    "    try :\n",
    "        tag_list = []\n",
    "        tag_raw = driver.find_element_by_css_selector(\".C7I1f.X7jCj\" ).text\n",
    "        tag = re.findall(\"#[A-Za-z0-9가-힣]+\", tag_raw)\n",
    "        tag = ''.join(tag).replace(\"#\",\" \") # \"# 제거\"\n",
    "        \n",
    "        tag_split = tag.split()\n",
    "        \n",
    "        for tag_data in tag_split :\n",
    "            tag_list.append(tag_data)\n",
    "        \n",
    "    except :\n",
    "        tag_list = []\n",
    "    print(\"tag : \", tag)\n",
    "       \n",
    "    # 다음 버튼\n",
    "    next_post_button = driver.find_element_by_css_selector(\"div.RnEpo._Yhr4 > div.Z2Inc._7c9RR > div > div.l8mY4.feth3 > button\")\n",
    "    next_post_button.click()\n",
    "    time.sleep(0.5)\n",
    "    \n",
    "exit_button = driver.find_element_by_css_selector(\"div.RnEpo._Yhr4 > div.NOTWr > button > div > svg\")\n",
    "exit_button.click()"
   ]
  },
  {
   "cell_type": "markdown",
   "id": "badcaacc",
   "metadata": {},
   "source": [
    "## 수정 필요 댓글 크롤링"
   ]
  },
  {
   "cell_type": "code",
   "execution_count": null,
   "id": "50097fdd",
   "metadata": {},
   "outputs": [],
   "source": []
  }
 ],
 "metadata": {
  "kernelspec": {
   "display_name": "Python 3 (ipykernel)",
   "language": "python",
   "name": "python3"
  },
  "language_info": {
   "codemirror_mode": {
    "name": "ipython",
    "version": 3
   },
   "file_extension": ".py",
   "mimetype": "text/x-python",
   "name": "python",
   "nbconvert_exporter": "python",
   "pygments_lexer": "ipython3",
   "version": "3.8.8"
  }
 },
 "nbformat": 4,
 "nbformat_minor": 5
}
