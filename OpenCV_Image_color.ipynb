{
 "cells": [
  {
   "cell_type": "code",
   "execution_count": 12,
   "id": "c8b2f147",
   "metadata": {},
   "outputs": [
    {
     "data": {
      "text/plain": [
       "-1"
      ]
     },
     "execution_count": 12,
     "metadata": {},
     "output_type": "execute_result"
    }
   ],
   "source": [
    "import numpy as np\n",
    "import cv2\n",
    "\n",
    "from matplotlib import pyplot as plt\n",
    "\n",
    "# 이미지 불러오기\n",
    "src = cv2.imread(\"2.png\")\n",
    "\n",
    "if src is None :\n",
    "    pritn(\"Image load failed ! \")\n",
    "    sys.exit()\n",
    "    \n",
    "# 사각형 지정을 통한 초기 분할\n",
    "rc = cv2.selectROI(src)\n",
    "mask = np.zeros(src.shape[:2], np.uint8)\n",
    "\n",
    "bgdModel = None\n",
    "fgdModel = None\n",
    "iterCount = 5\n",
    "cv2.grabCut(src, mask, rc, bgdModel, fgdModel, iterCount, cv2.GC_INIT_WITH_RECT)\n",
    "\n",
    "mask2 = np.where((mask ==0) | (mask == 2), 0, 1).astype('uint8')\n",
    "dst = src*mask2[:,:,np.newaxis]\n",
    "\n",
    "mask = mask*64\n",
    "\n",
    "cv2.imshow('mask',mask)\n",
    "cv2.imshow('dst',dst)\n",
    "cv2.waitKey()\n",
    "\n",
    "cv2.destroyAllWindows()"
   ]
  },
  {
   "cell_type": "code",
   "execution_count": 6,
   "id": "f1ce9661",
   "metadata": {},
   "outputs": [
    {
     "name": "stdout",
     "output_type": "stream",
     "text": [
      "(598, 601, 3)\n",
      "(359398, 3)\n",
      "[183.66041225 205.90511737 230.71169396]\n",
      "[15.79922238 26.79308329 46.52159889]\n",
      "[118.35382658 127.78430398 142.08873998]\n",
      "[146.36460717 179.0050993  214.92941492]\n",
      "[68.76040838 80.41948417 87.2068042 ]\n"
     ]
    }
   ],
   "source": [
    "import numpy as np\n",
    "import cv2\n",
    "from sklearn.cluster import KMeans\n",
    "import matplotlib.pyplot as plt\n",
    "\n",
    "image = cv2.imread(\"2.png\")\n",
    "print(image.shape)\n",
    "\n",
    "image = cv2.cvtColor(image, cv2.COLOR_BGR2RGB)\n",
    "\n",
    "# height width 통합\n",
    "image = image.reshape((image.shape[0] * image.shape[1], 3))\n",
    "print(image.shape)\n",
    "\n",
    "k = 5\n",
    "clt = KMeans(n_clusters = k)\n",
    "clt.fit(image)\n",
    "\n",
    "for center in clt.cluster_centers_ : \n",
    "    print(center)"
   ]
  },
  {
   "cell_type": "code",
   "execution_count": 8,
   "id": "6d8b7795",
   "metadata": {},
   "outputs": [
    {
     "name": "stdout",
     "output_type": "stream",
     "text": [
      "[0.2076834  0.28553303 0.13973088 0.19584416 0.17120852]\n"
     ]
    }
   ],
   "source": [
    "def centroid_histogram(clt) :\n",
    "    numLabels = np.arange(0, len(np.unique(clt.labels_)) + 1)\n",
    "    (hist,_) = np.histogram(clt.labels_, bins = numLabels)\n",
    "    \n",
    "    hist = hist.astype(\"float\")\n",
    "    hist /= hist.sum()\n",
    "    \n",
    "    return hist\n",
    "\n",
    "hist = centroid_histogram(clt)\n",
    "print(hist)"
   ]
  },
  {
   "cell_type": "code",
   "execution_count": 11,
   "id": "abba07d2",
   "metadata": {},
   "outputs": [
    {
     "data": {
      "image/png": "[encoded data removed]",
      "text/plain": [
       "<Figure size 432x288 with 1 Axes>"
      ]
     },
     "metadata": {
      "needs_background": "light"
     },
     "output_type": "display_data"
    }
   ],
   "source": [
    "def plot_colors(hist, centroids) :\n",
    "    bar = np.zeros((50, 300, 3), dtype = 'uint8')\n",
    "    startX = 0\n",
    "    \n",
    "    for (percent, color) in zip(hist,centroids) :\n",
    "        endX = startX + (percent * 300)\n",
    "        cv2.rectangle(bar, (int(startX), 0), (int(endX), 50),\n",
    "                     color.astype(\"uint8\").tolist(), -1)\n",
    "        startX = endX\n",
    "        \n",
    "    return bar\n",
    "\n",
    "bar = plot_colors(hist, clt.cluster_centers_)\n",
    "\n",
    "plt.figure()\n",
    "plt.axis(\"off\")\n",
    "plt.imshow(bar)\n",
    "plt.show()"
   ]
  },
  {
   "cell_type": "code",
   "execution_count": null,
   "id": "9ac24272",
   "metadata": {},
   "outputs": [],
   "source": []
  },
  {
   "cell_type": "code",
   "execution_count": null,
   "id": "3589da73",
   "metadata": {},
   "outputs": [],
   "source": []
  },
  {
   "cell_type": "code",
   "execution_count": 23,
   "id": "938fe084",
   "metadata": {},
   "outputs": [],
   "source": [
    "from sklearn.cluster import KMeans"
   ]
  },
  {
   "cell_type": "code",
   "execution_count": 31,
   "id": "3f69b3d3",
   "metadata": {},
   "outputs": [],
   "source": [
    "def show_img_compar(img_1, img_2 ):\n",
    "    f, ax = plt.subplots(1, 2, figsize=(10,10))\n",
    "    ax[0].imshow(img_1)\n",
    "    ax[1].imshow(img_2)\n",
    "    ax[0].axis('off') #hide the axis\n",
    "    ax[1].axis('off')\n",
    "    f.tight_layout()\n",
    "    plt.show()"
   ]
  },
  {
   "cell_type": "code",
   "execution_count": 96,
   "id": "734ed217",
   "metadata": {},
   "outputs": [],
   "source": [
    "img = cv2.imread(\"1.png\")\n",
    "img = cv2.cvtColor(img, cv2.COLOR_BGR2RGB)\n",
    " \n",
    "dim = (500, 300)\n",
    "# resize image\n",
    "img = cv2.resize(img, dim, interpolation = cv2.INTER_AREA)"
   ]
  },
  {
   "cell_type": "code",
   "execution_count": 97,
   "id": "2b54d041",
   "metadata": {},
   "outputs": [
    {
     "data": {
      "text/plain": [
       "KMeans(n_clusters=3)"
      ]
     },
     "execution_count": 97,
     "metadata": {},
     "output_type": "execute_result"
    }
   ],
   "source": [
    "clt = KMeans(n_clusters = 3)\n",
    "clt.fit(image.reshape(-1,3)) # R B G로 변환"
   ]
  },
  {
   "cell_type": "code",
   "execution_count": 98,
   "id": "237c9b27",
   "metadata": {},
   "outputs": [
    {
     "data": {
      "text/plain": [
       "array([1, 1, 1, ..., 0, 0, 0])"
      ]
     },
     "execution_count": 98,
     "metadata": {},
     "output_type": "execute_result"
    }
   ],
   "source": [
    "clt.labels_"
   ]
  },
  {
   "cell_type": "code",
   "execution_count": 99,
   "id": "96869233",
   "metadata": {},
   "outputs": [
    {
     "data": {
      "text/plain": [
       "array([[ 22.58065029,  33.74826766,  51.10079   ],\n",
       "       [164.87080498, 191.54781072, 221.28363213],\n",
       "       [ 98.51883277, 109.07197275, 119.97032088]])"
      ]
     },
     "execution_count": 99,
     "metadata": {},
     "output_type": "execute_result"
    }
   ],
   "source": [
    "clt.cluster_centers_"
   ]
  },
  {
   "cell_type": "code",
   "execution_count": 100,
   "id": "ac2f799c",
   "metadata": {},
   "outputs": [],
   "source": [
    "def palette(clusters):\n",
    "    width=300\n",
    "    palette = np.zeros((50, width, 3), np.uint8)\n",
    "    steps = width/clusters.cluster_centers_.shape[0]\n",
    "    for idx, centers in enumerate(clusters.cluster_centers_): \n",
    "        palette[:, int(idx*steps):(int((idx+1)*steps)), :] = centers\n",
    "    return palette"
   ]
  },
  {
   "cell_type": "code",
   "execution_count": 101,
   "id": "06f0ed0a",
   "metadata": {},
   "outputs": [
    {
     "name": "stdout",
     "output_type": "stream",
     "text": [
      "{0: 0.98, 1: 0.02, 2: 0.0}\n",
      "[[254.81475507 254.82753899 254.83918416]\n",
      " [210.17670157 210.57024433 211.44938918]\n",
      " [ 88.91061453 119.83798883 218.65921788]]\n",
      "   percent  rgb_hex\n",
      "0     0.98  #fefefe\n",
      "1     0.02  #d2d2d3\n",
      "2     0.00  #5877da\n"
     ]
    },
    {
     "data": {
      "image/png": "[encoded data removed]",
      "text/plain": [
       "<Figure size 720x720 with 2 Axes>"
      ]
     },
     "metadata": {
      "needs_background": "light"
     },
     "output_type": "display_data"
    }
   ],
   "source": [
    "from collections import Counter\n",
    "import pandas as pd\n",
    "\n",
    "def rgb_to_hex(r, g, b) :\n",
    "    r,g,b = int(r), int(g), int(b)\n",
    "    return '#' + hex(r)[2:].zfill(2) + hex(g)[2:].zfill(2) + hex(b)[2:].zfill(2)\n",
    "\n",
    "def palette_perc(k_cluster):\n",
    "    width = 300\n",
    "    palette = np.zeros((50, width, 3), np.uint8)\n",
    "    \n",
    "    n_pixels = len(k_cluster.labels_)\n",
    "    counter = Counter(k_cluster.labels_) # count how many pixels per cluster\n",
    "    rgb_hex = []\n",
    "    perc = {}\n",
    "    for i in counter:\n",
    "        perc[i] = np.round(counter[i]/n_pixels, 2)\n",
    "    perc = dict(sorted(perc.items()))\n",
    "    \n",
    "    #for logging purposes\n",
    "    print(perc)\n",
    "    print(k_cluster.cluster_centers_)\n",
    "    for k in k_cluster.cluster_centers_ :\n",
    "        r = k[0]\n",
    "        g = k[1]\n",
    "        b = k[2]\n",
    "        rgb_hex.append(rgb_to_hex(r,g,b))\n",
    "        \n",
    "    rgb_hex_percent_df = pd.DataFrame.from_dict(perc, orient='index') # color rate 열 추가\n",
    "                                                                      # dic -.> dataframe\n",
    "    rgb_hex_percent_df['rgb_hex'] = rgb_hex # rgb_hex 열 추가\n",
    "    rgb_hex_percent_df.columns = [\"percent\",\"rgb_hex\"] # column name 변경\n",
    "    print(rgb_hex_percent_df)\n",
    "    step = 0\n",
    "    \n",
    "    for idx, centers in enumerate(k_cluster.cluster_centers_): \n",
    "        palette[:, step:int(step + perc[idx]*width+1), :] = centers\n",
    "        step += int(perc[idx]*width+1)\n",
    "        \n",
    "    return palette\n",
    "\n",
    "clt_1 = clt.fit(img.reshape(-1, 3))\n",
    "show_img_compar(img, palette_perc(clt_1))"
   ]
  },
  {
   "cell_type": "code",
   "execution_count": 103,
   "id": "913fb47a",
   "metadata": {},
   "outputs": [
    {
     "data": {
      "text/plain": [
       "(array([0., 0., 0., 0., 0., 1., 0., 0., 0., 0.]),\n",
       " array([ 9.5,  9.6,  9.7,  9.8,  9.9, 10. , 10.1, 10.2, 10.3, 10.4, 10.5]),\n",
       " <BarContainer object of 10 artists>)"
      ]
     },
     "execution_count": 103,
     "metadata": {},
     "output_type": "execute_result"
    },
    {
     "data": {
      "image/png": "[encoded data removed]",
      "text/plain": [
       "<Figure size 432x288 with 1 Axes>"
      ]
     },
     "metadata": {
      "needs_background": "light"
     },
     "output_type": "display_data"
    }
   ],
   "source": [
    "data = [10]\n",
    "plt.hist(data,color = '#5877da')"
   ]
  },
  {
   "cell_type": "code",
   "execution_count": null,
   "id": "19cd1071",
   "metadata": {},
   "outputs": [],
   "source": []
  }
 ],
 "metadata": {
  "kernelspec": {
   "display_name": "Python 3 (ipykernel)",
   "language": "python",
   "name": "python3"
  },
  "language_info": {
   "codemirror_mode": {
    "name": "ipython",
    "version": 3
   },
   "file_extension": ".py",
   "mimetype": "text/x-python",
   "name": "python",
   "nbconvert_exporter": "python",
   "pygments_lexer": "ipython3",
   "version": "3.8.8"
  }
 },
 "nbformat": 4,
 "nbformat_minor": 5
}
