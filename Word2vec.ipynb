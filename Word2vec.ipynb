{
 "cells": [
  {
   "cell_type": "code",
   "execution_count": 104,
   "id": "7263adf5",
   "metadata": {},
   "outputs": [
    {
     "name": "stdout",
     "output_type": "stream",
     "text": [
      "Requirement already satisfied: konlpy in c:\\users\\sapb2\\anaconda3\\lib\\site-packages (0.6.0)\n",
      "Requirement already satisfied: lxml>=4.1.0 in c:\\users\\sapb2\\anaconda3\\lib\\site-packages (from konlpy) (4.7.1)\n",
      "Requirement already satisfied: JPype1>=0.7.0 in c:\\users\\sapb2\\anaconda3\\lib\\site-packages (from konlpy) (1.3.0)\n",
      "Requirement already satisfied: numpy>=1.6 in c:\\users\\sapb2\\anaconda3\\lib\\site-packages (from konlpy) (1.20.3)\n"
     ]
    },
    {
     "name": "stderr",
     "output_type": "stream",
     "text": [
      "WARNING: You are using pip version 22.0.3; however, version 22.0.4 is available.\n",
      "You should consider upgrading via the 'C:\\Users\\sapb2\\anaconda3\\python.exe -m pip install --upgrade pip' command.\n"
     ]
    }
   ],
   "source": [
    "!pip install konlpy"
   ]
  },
  {
   "cell_type": "code",
   "execution_count": 202,
   "id": "e77c0164",
   "metadata": {},
   "outputs": [],
   "source": [
    "import pandas as pd\n",
    "from konlpy.tag import Kkma\n",
    "import re\n",
    "import os\n",
    "import sys\n",
    "import json\n",
    "import urllib.request\n",
    "import time"
   ]
  },
  {
   "cell_type": "code",
   "execution_count": 203,
   "id": "d28f5cda",
   "metadata": {},
   "outputs": [],
   "source": [
    "data = pd.read_excel(\"Music_melon.xlsx\")\n",
    "data1 = pd.DataFrame(data)\n",
    "data1 = data1.drop(columns = \"Unnamed: 0\", axis=1)"
   ]
  },
  {
   "cell_type": "code",
   "execution_count": 204,
   "id": "b2a5ca79",
   "metadata": {},
   "outputs": [
    {
     "data": {
      "text/html": [
       "<div>\n",
       "<style scoped>\n",
       "    .dataframe tbody tr th:only-of-type {\n",
       "        vertical-align: middle;\n",
       "    }\n",
       "\n",
       "    .dataframe tbody tr th {\n",
       "        vertical-align: top;\n",
       "    }\n",
       "\n",
       "    .dataframe thead th {\n",
       "        text-align: right;\n",
       "    }\n",
       "</style>\n",
       "<table border=\"1\" class=\"dataframe\">\n",
       "  <thead>\n",
       "    <tr style=\"text-align: right;\">\n",
       "      <th></th>\n",
       "      <th>title</th>\n",
       "      <th>artist</th>\n",
       "      <th>Album_date</th>\n",
       "      <th>LIKE</th>\n",
       "      <th>Album_name</th>\n",
       "      <th>Album_Genre</th>\n",
       "      <th>Lyric</th>\n",
       "    </tr>\n",
       "  </thead>\n",
       "  <tbody>\n",
       "    <tr>\n",
       "      <th>0</th>\n",
       "      <td>TOMBOY</td>\n",
       "      <td>(여자)아이들</td>\n",
       "      <td>2022.03.14</td>\n",
       "      <td>114,447</td>\n",
       "      <td>I NEVER DIE</td>\n",
       "      <td>록/메탈</td>\n",
       "      <td>Look at you 넌 못 감당해 날\\nYa took off hook\\n기분은 C...</td>\n",
       "    </tr>\n",
       "    <tr>\n",
       "      <th>1</th>\n",
       "      <td>GANADARA (Feat. 아이유)</td>\n",
       "      <td>박재범</td>\n",
       "      <td>2022.03.11</td>\n",
       "      <td>89,399</td>\n",
       "      <td>GANADARA</td>\n",
       "      <td>R&amp;B/Soul</td>\n",
       "      <td>길거리를 걷다 보면\\n사랑 노래만 흘러나와\\n나는 왜 저런 게 낯설까\\n난 한국말까...</td>\n",
       "    </tr>\n",
       "    <tr>\n",
       "      <th>2</th>\n",
       "      <td>Feel My Rhythm</td>\n",
       "      <td>Red Velvet (레드벨벳)</td>\n",
       "      <td>2022.03.21</td>\n",
       "      <td>84,493</td>\n",
       "      <td>‘The ReVe Festival 2022 - Feel My Rhythm’</td>\n",
       "      <td>댄스</td>\n",
       "      <td>Red Velvet\\n\\n무도회를 뒤집어\\n작은 소란을 또 일으켜\\nThis is ...</td>\n",
       "    </tr>\n",
       "    <tr>\n",
       "      <th>3</th>\n",
       "      <td>사랑인가 봐</td>\n",
       "      <td>멜로망스</td>\n",
       "      <td>2022.02.18</td>\n",
       "      <td>52,662</td>\n",
       "      <td>사랑인가 봐 (사내맞선 OST 스페셜 트랙)</td>\n",
       "      <td>발라드, 국내드라마</td>\n",
       "      <td>너와 함께 하고 싶은 일들을\\n상상하는 게\\n요즘 내 일상이 되고\\n너의 즐거워하는...</td>\n",
       "    </tr>\n",
       "    <tr>\n",
       "      <th>4</th>\n",
       "      <td>취중고백</td>\n",
       "      <td>김민석 (멜로망스)</td>\n",
       "      <td>2021.12.19</td>\n",
       "      <td>100,247</td>\n",
       "      <td>취중고백</td>\n",
       "      <td>발라드</td>\n",
       "      <td>뭐하고 있었니 늦었지만\\n잠시 나올래\\n너의 집 골목에 있는\\n놀이터에 앉아 있어\\...</td>\n",
       "    </tr>\n",
       "    <tr>\n",
       "      <th>...</th>\n",
       "      <td>...</td>\n",
       "      <td>...</td>\n",
       "      <td>...</td>\n",
       "      <td>...</td>\n",
       "      <td>...</td>\n",
       "      <td>...</td>\n",
       "      <td>...</td>\n",
       "    </tr>\n",
       "    <tr>\n",
       "      <th>94</th>\n",
       "      <td>취기를 빌려 (취향저격 그녀 X 산들)</td>\n",
       "      <td>산들</td>\n",
       "      <td>2020.07.20</td>\n",
       "      <td>212,585</td>\n",
       "      <td>취기를 빌려 (취향저격 그녀 X 산들)</td>\n",
       "      <td>발라드</td>\n",
       "      <td>언제부턴가 불쑥\\n내 습관이 돼버린 너\\n혹시나 이런 맘이\\n어쩌면 부담일까\\n널 ...</td>\n",
       "    </tr>\n",
       "    <tr>\n",
       "      <th>95</th>\n",
       "      <td>네가 없는 밤 (Feat. ASH ISLAND) (Prod. GRAY)</td>\n",
       "      <td>BE'O (비오)</td>\n",
       "      <td>2021.12.04</td>\n",
       "      <td>63,969</td>\n",
       "      <td>쇼미더머니 10 Final</td>\n",
       "      <td>랩/힙합</td>\n",
       "      <td>나 외로웠지만\\n덕분에 버텼던 tonight\\n그 말은 하기 싫어 good bye\\...</td>\n",
       "    </tr>\n",
       "    <tr>\n",
       "      <th>96</th>\n",
       "      <td>O.O</td>\n",
       "      <td>NMIXX</td>\n",
       "      <td>2022.02.22</td>\n",
       "      <td>24,956</td>\n",
       "      <td>AD MARE</td>\n",
       "      <td>댄스</td>\n",
       "      <td>WhOOk- whOOk\\nAy Look at that moving eye eyes\\...</td>\n",
       "    </tr>\n",
       "    <tr>\n",
       "      <th>97</th>\n",
       "      <td>별빛 같은 나의 사랑아</td>\n",
       "      <td>임영웅</td>\n",
       "      <td>2021.03.09</td>\n",
       "      <td>71,309</td>\n",
       "      <td>별빛 같은 나의 사랑아</td>\n",
       "      <td>성인가요/트로트</td>\n",
       "      <td>당신이 얼마나 내게\\n소중한 사람인지\\n세월이 흐르고 보니\\n이제 알 것 같아요\\n...</td>\n",
       "    </tr>\n",
       "    <tr>\n",
       "      <th>98</th>\n",
       "      <td>늦은 후회</td>\n",
       "      <td>조현아 (어반자카파)</td>\n",
       "      <td>2022.03.18</td>\n",
       "      <td>7,387</td>\n",
       "      <td>늦은 후회</td>\n",
       "      <td>발라드</td>\n",
       "      <td>얼마나 한참을 서있었는지\\n멀리 너의 모습 보면서\\n그 모습 사라질 때까지\\n나의 ...</td>\n",
       "    </tr>\n",
       "  </tbody>\n",
       "</table>\n",
       "<p>99 rows × 7 columns</p>\n",
       "</div>"
      ],
      "text/plain": [
       "                                      title             artist  Album_date  \\\n",
       "0                                    TOMBOY            (여자)아이들  2022.03.14   \n",
       "1                      GANADARA (Feat. 아이유)                박재범  2022.03.11   \n",
       "2                            Feel My Rhythm  Red Velvet (레드벨벳)  2022.03.21   \n",
       "3                                    사랑인가 봐               멜로망스  2022.02.18   \n",
       "4                                      취중고백         김민석 (멜로망스)  2021.12.19   \n",
       "..                                      ...                ...         ...   \n",
       "94                    취기를 빌려 (취향저격 그녀 X 산들)                 산들  2020.07.20   \n",
       "95  네가 없는 밤 (Feat. ASH ISLAND) (Prod. GRAY)          BE'O (비오)  2021.12.04   \n",
       "96                                      O.O              NMIXX  2022.02.22   \n",
       "97                             별빛 같은 나의 사랑아                임영웅  2021.03.09   \n",
       "98                                    늦은 후회        조현아 (어반자카파)  2022.03.18   \n",
       "\n",
       "       LIKE                                 Album_name Album_Genre  \\\n",
       "0   114,447                                I NEVER DIE        록/메탈   \n",
       "1    89,399                                   GANADARA    R&B/Soul   \n",
       "2    84,493  ‘The ReVe Festival 2022 - Feel My Rhythm’          댄스   \n",
       "3    52,662                   사랑인가 봐 (사내맞선 OST 스페셜 트랙)  발라드, 국내드라마   \n",
       "4   100,247                                       취중고백         발라드   \n",
       "..      ...                                        ...         ...   \n",
       "94  212,585                      취기를 빌려 (취향저격 그녀 X 산들)         발라드   \n",
       "95   63,969                             쇼미더머니 10 Final        랩/힙합   \n",
       "96   24,956                                    AD MARE          댄스   \n",
       "97   71,309                               별빛 같은 나의 사랑아    성인가요/트로트   \n",
       "98    7,387                                      늦은 후회         발라드   \n",
       "\n",
       "                                                Lyric  \n",
       "0   Look at you 넌 못 감당해 날\\nYa took off hook\\n기분은 C...  \n",
       "1   길거리를 걷다 보면\\n사랑 노래만 흘러나와\\n나는 왜 저런 게 낯설까\\n난 한국말까...  \n",
       "2   Red Velvet\\n\\n무도회를 뒤집어\\n작은 소란을 또 일으켜\\nThis is ...  \n",
       "3   너와 함께 하고 싶은 일들을\\n상상하는 게\\n요즘 내 일상이 되고\\n너의 즐거워하는...  \n",
       "4   뭐하고 있었니 늦었지만\\n잠시 나올래\\n너의 집 골목에 있는\\n놀이터에 앉아 있어\\...  \n",
       "..                                                ...  \n",
       "94  언제부턴가 불쑥\\n내 습관이 돼버린 너\\n혹시나 이런 맘이\\n어쩌면 부담일까\\n널 ...  \n",
       "95  나 외로웠지만\\n덕분에 버텼던 tonight\\n그 말은 하기 싫어 good bye\\...  \n",
       "96  WhOOk- whOOk\\nAy Look at that moving eye eyes\\...  \n",
       "97  당신이 얼마나 내게\\n소중한 사람인지\\n세월이 흐르고 보니\\n이제 알 것 같아요\\n...  \n",
       "98  얼마나 한참을 서있었는지\\n멀리 너의 모습 보면서\\n그 모습 사라질 때까지\\n나의 ...  \n",
       "\n",
       "[99 rows x 7 columns]"
      ]
     },
     "execution_count": 204,
     "metadata": {},
     "output_type": "execute_result"
    }
   ],
   "source": [
    "data1"
   ]
  },
  {
   "cell_type": "code",
   "execution_count": 205,
   "id": "30b0d3d9",
   "metadata": {},
   "outputs": [],
   "source": [
    "for i in range(100) :\n",
    "    try :\n",
    "        data1['Lyric'][i] = data1['Lyric'][i].replace('\\n',' ')\n",
    "    except :\n",
    "        continue"
   ]
  },
  {
   "cell_type": "code",
   "execution_count": 206,
   "id": "a3d21468",
   "metadata": {},
   "outputs": [
    {
     "data": {
      "text/plain": [
       "'Look at you 넌 못 감당해 날 Ya took off hook 기분은 Coke like brrr Look at my toe 나의 Ex 이름 Tattoo I got to drink up now 네가 싫다 해도 좋아  Why are you cranky, boy? 뭘 그리 찡그려 너 Do you want a blond barbie doll? It’s not here, I’m not a doll  미친 연이라 말해 What’s the loss to me ya 사정없이 까보라고 You’ll lose to me ya 사랑 그깟 거 따위 내 몸에 상처 하나도 어림없지 너의 썩은 내 나는 향수나 뿌릴 바엔  Ye I’m a Tomboy (Umm ah umm) Ye I’ll be the Tomboy (Umm ah) This is my attitude Ye I’ll be the Tomboy  I don’t wanna play this ping pong I would rather film a Tik Tok Your mom raised you as a prince But this is queendom, right? I like dancing, I love ma friends Sometimes we swear without cigarettes I like to eh on drinking whiskey I won’t change it, what the hell?  미친 척이라 말해 What’s the loss to me ya 사정없이 씹으라고 You’re lost to me ya 사랑 그깟 거 따위 내 눈에 눈물 한 방울 어림없지 너의 하찮은 말에 미소나 지을 바엔  Ye I’m a Tomboy (Umm ah umm) Ye I’ll be the Tomboy (Umm ah) This is my attitude Ye I’ll be the Tomboy  Said you get it? You get the song right, you’ll get what I mean “Tomboy”  La la la la la la la la la La la la la la la la la la  La la la la la la la la la La la la la la la la la la (Three, two, one)  It’s neither man nor woman Man nor woman It’s neither man nor woman (Just me I-DLE)  It’s neither man nor woman Man nor woman It’s neither man nor woman (Just me loving Tomboy)'"
      ]
     },
     "execution_count": 206,
     "metadata": {},
     "output_type": "execute_result"
    }
   ],
   "source": [
    "data1['Lyric'][0]"
   ]
  },
  {
   "cell_type": "code",
   "execution_count": 183,
   "id": "e3f1b153",
   "metadata": {},
   "outputs": [
    {
     "data": {
      "text/plain": [
       "99"
      ]
     },
     "execution_count": 183,
     "metadata": {},
     "output_type": "execute_result"
    }
   ],
   "source": [
    "data1[0]"
   ]
  },
  {
   "cell_type": "code",
   "execution_count": 190,
   "id": "6eacc72f",
   "metadata": {},
   "outputs": [
    {
     "data": {
      "text/plain": [
       "59"
      ]
     },
     "execution_count": 190,
     "metadata": {},
     "output_type": "execute_result"
    }
   ],
   "source": [
    "st = data1['Lyric'][0].split(\"/\")\n",
    "len(st)"
   ]
  },
  {
   "cell_type": "code",
   "execution_count": 185,
   "id": "f3718589",
   "metadata": {},
   "outputs": [],
   "source": [
    "trans_list = []"
   ]
  },
  {
   "cell_type": "code",
   "execution_count": 195,
   "id": "8c950a8c",
   "metadata": {},
   "outputs": [
    {
     "ename": "HTTPError",
     "evalue": "HTTP Error 429: Too Many Requests",
     "output_type": "error",
     "traceback": [
      "\u001b[1;31m---------------------------------------------------------------------------\u001b[0m",
      "\u001b[1;31mHTTPError\u001b[0m                                 Traceback (most recent call last)",
      "\u001b[1;32m~\\AppData\\Local\\Temp/ipykernel_13036/4122705883.py\u001b[0m in \u001b[0;36m<module>\u001b[1;34m\u001b[0m\n\u001b[0;32m      9\u001b[0m     \u001b[0mrequest\u001b[0m\u001b[1;33m.\u001b[0m\u001b[0madd_header\u001b[0m\u001b[1;33m(\u001b[0m\u001b[1;34m\"X-Naver-Client-Id\"\u001b[0m\u001b[1;33m,\u001b[0m\u001b[0mclient_id\u001b[0m\u001b[1;33m)\u001b[0m\u001b[1;33m\u001b[0m\u001b[1;33m\u001b[0m\u001b[0m\n\u001b[0;32m     10\u001b[0m     \u001b[0mrequest\u001b[0m\u001b[1;33m.\u001b[0m\u001b[0madd_header\u001b[0m\u001b[1;33m(\u001b[0m\u001b[1;34m\"X-Naver-Client-Secret\"\u001b[0m\u001b[1;33m,\u001b[0m\u001b[0mclient_secret\u001b[0m\u001b[1;33m)\u001b[0m\u001b[1;33m\u001b[0m\u001b[1;33m\u001b[0m\u001b[0m\n\u001b[1;32m---> 11\u001b[1;33m     \u001b[0mresponse\u001b[0m \u001b[1;33m=\u001b[0m \u001b[0murllib\u001b[0m\u001b[1;33m.\u001b[0m\u001b[0mrequest\u001b[0m\u001b[1;33m.\u001b[0m\u001b[0murlopen\u001b[0m\u001b[1;33m(\u001b[0m\u001b[0mrequest\u001b[0m\u001b[1;33m,\u001b[0m \u001b[0mdata\u001b[0m \u001b[1;33m=\u001b[0m \u001b[0mdata\u001b[0m\u001b[1;33m.\u001b[0m\u001b[0mencode\u001b[0m\u001b[1;33m(\u001b[0m\u001b[1;34m\"utf-8\"\u001b[0m\u001b[1;33m)\u001b[0m\u001b[1;33m)\u001b[0m\u001b[1;33m\u001b[0m\u001b[1;33m\u001b[0m\u001b[0m\n\u001b[0m\u001b[0;32m     12\u001b[0m     \u001b[0mrescode\u001b[0m \u001b[1;33m=\u001b[0m \u001b[0mresponse\u001b[0m\u001b[1;33m.\u001b[0m\u001b[0mgetcode\u001b[0m\u001b[1;33m(\u001b[0m\u001b[1;33m)\u001b[0m\u001b[1;33m\u001b[0m\u001b[1;33m\u001b[0m\u001b[0m\n\u001b[0;32m     13\u001b[0m     \u001b[1;32mif\u001b[0m\u001b[1;33m(\u001b[0m\u001b[0mrescode\u001b[0m\u001b[1;33m==\u001b[0m\u001b[1;36m200\u001b[0m\u001b[1;33m)\u001b[0m\u001b[1;33m:\u001b[0m\u001b[1;33m\u001b[0m\u001b[1;33m\u001b[0m\u001b[0m\n",
      "\u001b[1;32m~\\anaconda3\\lib\\urllib\\request.py\u001b[0m in \u001b[0;36murlopen\u001b[1;34m(url, data, timeout, cafile, capath, cadefault, context)\u001b[0m\n\u001b[0;32m    220\u001b[0m     \u001b[1;32melse\u001b[0m\u001b[1;33m:\u001b[0m\u001b[1;33m\u001b[0m\u001b[1;33m\u001b[0m\u001b[0m\n\u001b[0;32m    221\u001b[0m         \u001b[0mopener\u001b[0m \u001b[1;33m=\u001b[0m \u001b[0m_opener\u001b[0m\u001b[1;33m\u001b[0m\u001b[1;33m\u001b[0m\u001b[0m\n\u001b[1;32m--> 222\u001b[1;33m     \u001b[1;32mreturn\u001b[0m \u001b[0mopener\u001b[0m\u001b[1;33m.\u001b[0m\u001b[0mopen\u001b[0m\u001b[1;33m(\u001b[0m\u001b[0murl\u001b[0m\u001b[1;33m,\u001b[0m \u001b[0mdata\u001b[0m\u001b[1;33m,\u001b[0m \u001b[0mtimeout\u001b[0m\u001b[1;33m)\u001b[0m\u001b[1;33m\u001b[0m\u001b[1;33m\u001b[0m\u001b[0m\n\u001b[0m\u001b[0;32m    223\u001b[0m \u001b[1;33m\u001b[0m\u001b[0m\n\u001b[0;32m    224\u001b[0m \u001b[1;32mdef\u001b[0m \u001b[0minstall_opener\u001b[0m\u001b[1;33m(\u001b[0m\u001b[0mopener\u001b[0m\u001b[1;33m)\u001b[0m\u001b[1;33m:\u001b[0m\u001b[1;33m\u001b[0m\u001b[1;33m\u001b[0m\u001b[0m\n",
      "\u001b[1;32m~\\anaconda3\\lib\\urllib\\request.py\u001b[0m in \u001b[0;36mopen\u001b[1;34m(self, fullurl, data, timeout)\u001b[0m\n\u001b[0;32m    529\u001b[0m         \u001b[1;32mfor\u001b[0m \u001b[0mprocessor\u001b[0m \u001b[1;32min\u001b[0m \u001b[0mself\u001b[0m\u001b[1;33m.\u001b[0m\u001b[0mprocess_response\u001b[0m\u001b[1;33m.\u001b[0m\u001b[0mget\u001b[0m\u001b[1;33m(\u001b[0m\u001b[0mprotocol\u001b[0m\u001b[1;33m,\u001b[0m \u001b[1;33m[\u001b[0m\u001b[1;33m]\u001b[0m\u001b[1;33m)\u001b[0m\u001b[1;33m:\u001b[0m\u001b[1;33m\u001b[0m\u001b[1;33m\u001b[0m\u001b[0m\n\u001b[0;32m    530\u001b[0m             \u001b[0mmeth\u001b[0m \u001b[1;33m=\u001b[0m \u001b[0mgetattr\u001b[0m\u001b[1;33m(\u001b[0m\u001b[0mprocessor\u001b[0m\u001b[1;33m,\u001b[0m \u001b[0mmeth_name\u001b[0m\u001b[1;33m)\u001b[0m\u001b[1;33m\u001b[0m\u001b[1;33m\u001b[0m\u001b[0m\n\u001b[1;32m--> 531\u001b[1;33m             \u001b[0mresponse\u001b[0m \u001b[1;33m=\u001b[0m \u001b[0mmeth\u001b[0m\u001b[1;33m(\u001b[0m\u001b[0mreq\u001b[0m\u001b[1;33m,\u001b[0m \u001b[0mresponse\u001b[0m\u001b[1;33m)\u001b[0m\u001b[1;33m\u001b[0m\u001b[1;33m\u001b[0m\u001b[0m\n\u001b[0m\u001b[0;32m    532\u001b[0m \u001b[1;33m\u001b[0m\u001b[0m\n\u001b[0;32m    533\u001b[0m         \u001b[1;32mreturn\u001b[0m \u001b[0mresponse\u001b[0m\u001b[1;33m\u001b[0m\u001b[1;33m\u001b[0m\u001b[0m\n",
      "\u001b[1;32m~\\anaconda3\\lib\\urllib\\request.py\u001b[0m in \u001b[0;36mhttp_response\u001b[1;34m(self, request, response)\u001b[0m\n\u001b[0;32m    638\u001b[0m         \u001b[1;31m# request was successfully received, understood, and accepted.\u001b[0m\u001b[1;33m\u001b[0m\u001b[1;33m\u001b[0m\u001b[1;33m\u001b[0m\u001b[0m\n\u001b[0;32m    639\u001b[0m         \u001b[1;32mif\u001b[0m \u001b[1;32mnot\u001b[0m \u001b[1;33m(\u001b[0m\u001b[1;36m200\u001b[0m \u001b[1;33m<=\u001b[0m \u001b[0mcode\u001b[0m \u001b[1;33m<\u001b[0m \u001b[1;36m300\u001b[0m\u001b[1;33m)\u001b[0m\u001b[1;33m:\u001b[0m\u001b[1;33m\u001b[0m\u001b[1;33m\u001b[0m\u001b[0m\n\u001b[1;32m--> 640\u001b[1;33m             response = self.parent.error(\n\u001b[0m\u001b[0;32m    641\u001b[0m                 'http', request, response, code, msg, hdrs)\n\u001b[0;32m    642\u001b[0m \u001b[1;33m\u001b[0m\u001b[0m\n",
      "\u001b[1;32m~\\anaconda3\\lib\\urllib\\request.py\u001b[0m in \u001b[0;36merror\u001b[1;34m(self, proto, *args)\u001b[0m\n\u001b[0;32m    567\u001b[0m         \u001b[1;32mif\u001b[0m \u001b[0mhttp_err\u001b[0m\u001b[1;33m:\u001b[0m\u001b[1;33m\u001b[0m\u001b[1;33m\u001b[0m\u001b[0m\n\u001b[0;32m    568\u001b[0m             \u001b[0margs\u001b[0m \u001b[1;33m=\u001b[0m \u001b[1;33m(\u001b[0m\u001b[0mdict\u001b[0m\u001b[1;33m,\u001b[0m \u001b[1;34m'default'\u001b[0m\u001b[1;33m,\u001b[0m \u001b[1;34m'http_error_default'\u001b[0m\u001b[1;33m)\u001b[0m \u001b[1;33m+\u001b[0m \u001b[0morig_args\u001b[0m\u001b[1;33m\u001b[0m\u001b[1;33m\u001b[0m\u001b[0m\n\u001b[1;32m--> 569\u001b[1;33m             \u001b[1;32mreturn\u001b[0m \u001b[0mself\u001b[0m\u001b[1;33m.\u001b[0m\u001b[0m_call_chain\u001b[0m\u001b[1;33m(\u001b[0m\u001b[1;33m*\u001b[0m\u001b[0margs\u001b[0m\u001b[1;33m)\u001b[0m\u001b[1;33m\u001b[0m\u001b[1;33m\u001b[0m\u001b[0m\n\u001b[0m\u001b[0;32m    570\u001b[0m \u001b[1;33m\u001b[0m\u001b[0m\n\u001b[0;32m    571\u001b[0m \u001b[1;31m# XXX probably also want an abstract factory that knows when it makes\u001b[0m\u001b[1;33m\u001b[0m\u001b[1;33m\u001b[0m\u001b[1;33m\u001b[0m\u001b[0m\n",
      "\u001b[1;32m~\\anaconda3\\lib\\urllib\\request.py\u001b[0m in \u001b[0;36m_call_chain\u001b[1;34m(self, chain, kind, meth_name, *args)\u001b[0m\n\u001b[0;32m    500\u001b[0m         \u001b[1;32mfor\u001b[0m \u001b[0mhandler\u001b[0m \u001b[1;32min\u001b[0m \u001b[0mhandlers\u001b[0m\u001b[1;33m:\u001b[0m\u001b[1;33m\u001b[0m\u001b[1;33m\u001b[0m\u001b[0m\n\u001b[0;32m    501\u001b[0m             \u001b[0mfunc\u001b[0m \u001b[1;33m=\u001b[0m \u001b[0mgetattr\u001b[0m\u001b[1;33m(\u001b[0m\u001b[0mhandler\u001b[0m\u001b[1;33m,\u001b[0m \u001b[0mmeth_name\u001b[0m\u001b[1;33m)\u001b[0m\u001b[1;33m\u001b[0m\u001b[1;33m\u001b[0m\u001b[0m\n\u001b[1;32m--> 502\u001b[1;33m             \u001b[0mresult\u001b[0m \u001b[1;33m=\u001b[0m \u001b[0mfunc\u001b[0m\u001b[1;33m(\u001b[0m\u001b[1;33m*\u001b[0m\u001b[0margs\u001b[0m\u001b[1;33m)\u001b[0m\u001b[1;33m\u001b[0m\u001b[1;33m\u001b[0m\u001b[0m\n\u001b[0m\u001b[0;32m    503\u001b[0m             \u001b[1;32mif\u001b[0m \u001b[0mresult\u001b[0m \u001b[1;32mis\u001b[0m \u001b[1;32mnot\u001b[0m \u001b[1;32mNone\u001b[0m\u001b[1;33m:\u001b[0m\u001b[1;33m\u001b[0m\u001b[1;33m\u001b[0m\u001b[0m\n\u001b[0;32m    504\u001b[0m                 \u001b[1;32mreturn\u001b[0m \u001b[0mresult\u001b[0m\u001b[1;33m\u001b[0m\u001b[1;33m\u001b[0m\u001b[0m\n",
      "\u001b[1;32m~\\anaconda3\\lib\\urllib\\request.py\u001b[0m in \u001b[0;36mhttp_error_default\u001b[1;34m(self, req, fp, code, msg, hdrs)\u001b[0m\n\u001b[0;32m    647\u001b[0m \u001b[1;32mclass\u001b[0m \u001b[0mHTTPDefaultErrorHandler\u001b[0m\u001b[1;33m(\u001b[0m\u001b[0mBaseHandler\u001b[0m\u001b[1;33m)\u001b[0m\u001b[1;33m:\u001b[0m\u001b[1;33m\u001b[0m\u001b[1;33m\u001b[0m\u001b[0m\n\u001b[0;32m    648\u001b[0m     \u001b[1;32mdef\u001b[0m \u001b[0mhttp_error_default\u001b[0m\u001b[1;33m(\u001b[0m\u001b[0mself\u001b[0m\u001b[1;33m,\u001b[0m \u001b[0mreq\u001b[0m\u001b[1;33m,\u001b[0m \u001b[0mfp\u001b[0m\u001b[1;33m,\u001b[0m \u001b[0mcode\u001b[0m\u001b[1;33m,\u001b[0m \u001b[0mmsg\u001b[0m\u001b[1;33m,\u001b[0m \u001b[0mhdrs\u001b[0m\u001b[1;33m)\u001b[0m\u001b[1;33m:\u001b[0m\u001b[1;33m\u001b[0m\u001b[1;33m\u001b[0m\u001b[0m\n\u001b[1;32m--> 649\u001b[1;33m         \u001b[1;32mraise\u001b[0m \u001b[0mHTTPError\u001b[0m\u001b[1;33m(\u001b[0m\u001b[0mreq\u001b[0m\u001b[1;33m.\u001b[0m\u001b[0mfull_url\u001b[0m\u001b[1;33m,\u001b[0m \u001b[0mcode\u001b[0m\u001b[1;33m,\u001b[0m \u001b[0mmsg\u001b[0m\u001b[1;33m,\u001b[0m \u001b[0mhdrs\u001b[0m\u001b[1;33m,\u001b[0m \u001b[0mfp\u001b[0m\u001b[1;33m)\u001b[0m\u001b[1;33m\u001b[0m\u001b[1;33m\u001b[0m\u001b[0m\n\u001b[0m\u001b[0;32m    650\u001b[0m \u001b[1;33m\u001b[0m\u001b[0m\n\u001b[0;32m    651\u001b[0m \u001b[1;32mclass\u001b[0m \u001b[0mHTTPRedirectHandler\u001b[0m\u001b[1;33m(\u001b[0m\u001b[0mBaseHandler\u001b[0m\u001b[1;33m)\u001b[0m\u001b[1;33m:\u001b[0m\u001b[1;33m\u001b[0m\u001b[1;33m\u001b[0m\u001b[0m\n",
      "\u001b[1;31mHTTPError\u001b[0m: HTTP Error 429: Too Many Requests"
     ]
    }
   ],
   "source": [
    "client_id = \"fi66YCtW0BP7W1YeVvq0\" # 개발자센터에서 발급받은 Client ID 값\n",
    "client_secret = \"Wd5n4nGg_t\" # 개발자센터에서 발급받은 Client Secret 값\n",
    "\n",
    "for i in range(len(st)) :\n",
    "    encText = urllib.parse.quote(\"안녕\")\n",
    "    data = \"source=ko&target=en&text=\" + encText\n",
    "    url = \"https://openapi.naver.com/v1/papago/n2mt\"\n",
    "    request = urllib.request.Request(url)\n",
    "    request.add_header(\"X-Naver-Client-Id\",client_id)\n",
    "    request.add_header(\"X-Naver-Client-Secret\",client_secret)\n",
    "    response = urllib.request.urlopen(request, data = data.encode(\"utf-8\"))\n",
    "    rescode = response.getcode()\n",
    "    if(rescode==200):\n",
    "        response_body = response.read()\n",
    "        print(response_body.decod('utf-8'))\n",
    "    else:\n",
    "        print(\"Error Code:\" + rescode)"
   ]
  },
  {
   "cell_type": "code",
   "execution_count": 237,
   "id": "c2ba2cfa",
   "metadata": {},
   "outputs": [],
   "source": [
    "tagging_kkma=[]\n",
    "kkma = Kkma()\n",
    "\n",
    "for i in data1['Lyric'] :\n",
    "    tag_word = kkma.pos(i)\n",
    "    tagging_kkma.append(tag_word)"
   ]
  },
  {
   "cell_type": "code",
   "execution_count": 238,
   "id": "c4ee0e99",
   "metadata": {},
   "outputs": [
    {
     "data": {
      "text/plain": [
       "'Look'"
      ]
     },
     "execution_count": 238,
     "metadata": {},
     "output_type": "execute_result"
    }
   ],
   "source": [
    "tagging_kkma[0][0][0]"
   ]
  },
  {
   "cell_type": "code",
   "execution_count": 248,
   "id": "54713189",
   "metadata": {},
   "outputs": [],
   "source": [
    "tagging_cut_kkma = []\n",
    "\n",
    "for index in range(len(tagging_kkma)) : #2차원 리스트 태깅 단어\n",
    "    stopword_tagging = []\n",
    "    for word, tag in tagging_kkma[index]:\n",
    "        if tag in 'SF' or tag in 'SP' or tag in 'SS' or tag in 'SE'or tag in 'SO' or tag in 'SW' or tag in 'UN' or tag in 'OH' or tag in 'ON' or tag in 'OL':\n",
    "            continue\n",
    "        else :\n",
    "            stopword_tagging.append(word)\n",
    "        tagging_cut_kkma.append(stopword_tagging)"
   ]
  },
  {
   "cell_type": "code",
   "execution_count": 249,
   "id": "e090bdcf",
   "metadata": {},
   "outputs": [
    {
     "data": {
      "text/plain": [
       "['너',\n",
       " '는',\n",
       " '못',\n",
       " '감당',\n",
       " '하',\n",
       " '어',\n",
       " '날',\n",
       " '기분',\n",
       " '은',\n",
       " '나의',\n",
       " '이름',\n",
       " '네',\n",
       " '가',\n",
       " '아',\n",
       " '싫',\n",
       " '다',\n",
       " '하',\n",
       " '어도',\n",
       " '좋',\n",
       " '아',\n",
       " '무엇',\n",
       " '을',\n",
       " '그리',\n",
       " '찡그리',\n",
       " '어',\n",
       " '너',\n",
       " '미치',\n",
       " 'ㄴ',\n",
       " '연',\n",
       " '이',\n",
       " '라',\n",
       " '말하',\n",
       " '어',\n",
       " '사정없이',\n",
       " '까',\n",
       " '아',\n",
       " '보라',\n",
       " '고',\n",
       " '사랑',\n",
       " '그깟',\n",
       " '거',\n",
       " '따위',\n",
       " '내',\n",
       " '몸',\n",
       " '에',\n",
       " '상처',\n",
       " '하나',\n",
       " '도',\n",
       " '어림없',\n",
       " '지',\n",
       " '너',\n",
       " '의',\n",
       " '썩',\n",
       " '은',\n",
       " '내',\n",
       " '나',\n",
       " '는',\n",
       " '향수',\n",
       " '나',\n",
       " '뿌리',\n",
       " 'ㄹ',\n",
       " '바',\n",
       " '에',\n",
       " '는',\n",
       " '미치',\n",
       " 'ㄴ',\n",
       " '척',\n",
       " '이',\n",
       " '라',\n",
       " '말하',\n",
       " '어',\n",
       " '사정없이',\n",
       " '씹',\n",
       " '으라',\n",
       " '고',\n",
       " '사랑',\n",
       " '그깟',\n",
       " '거',\n",
       " '따위',\n",
       " '내',\n",
       " '눈',\n",
       " '에',\n",
       " '눈물',\n",
       " '한',\n",
       " '방',\n",
       " '울',\n",
       " '어림없',\n",
       " '지',\n",
       " '너',\n",
       " '의',\n",
       " '하찮',\n",
       " '은',\n",
       " '말',\n",
       " '에',\n",
       " '미소',\n",
       " '나',\n",
       " '짓',\n",
       " '을',\n",
       " '바',\n",
       " '에',\n",
       " '는']"
      ]
     },
     "execution_count": 249,
     "metadata": {},
     "output_type": "execute_result"
    }
   ],
   "source": [
    "tagging_cut_kkma[0]"
   ]
  },
  {
   "cell_type": "code",
   "execution_count": 250,
   "id": "344a2688",
   "metadata": {},
   "outputs": [],
   "source": [
    "from gensim.models.word2vec import Word2Vec as wv\n",
    "##태깅한 데이터들을 담은 변수 :tagging_kkma\n",
    "model_kkma = wv(tagging_cut_kkma, min_count =1,sg=0, batch_words=1000, window = 5)\n",
    "model_kkma.vector_size = 150"
   ]
  },
  {
   "cell_type": "code",
   "execution_count": 255,
   "id": "20f05d35",
   "metadata": {},
   "outputs": [
    {
     "data": {
      "text/plain": [
       "[('남김없이', 0.36358436942100525),\n",
       " ('자신', 0.34519752860069275),\n",
       " ('쓰라리', 0.32843315601348877),\n",
       " ('오랜만', 0.32127639651298523),\n",
       " ('버려두', 0.32054242491722107),\n",
       " ('미루', 0.30230748653411865),\n",
       " ('양의', 0.29888850450515747),\n",
       " ('몰래몰래', 0.2981228828430176),\n",
       " ('비례', 0.2951837182044983),\n",
       " ('은', 0.2895404100418091)]"
      ]
     },
     "execution_count": 255,
     "metadata": {},
     "output_type": "execute_result"
    }
   ],
   "source": [
    "model_result = model_kkma.wv.most_similar(\"행복\")\n",
    "model_result"
   ]
  },
  {
   "cell_type": "code",
   "execution_count": 256,
   "id": "4c730470",
   "metadata": {},
   "outputs": [
    {
     "data": {
      "text/plain": [
       "[('ㄴ걸', 0.9496451616287231),\n",
       " ('크', 0.5144278407096863),\n",
       " ('가장', 0.3662431240081787),\n",
       " ('외면', 0.32141411304473877),\n",
       " ('백', 0.29899659752845764),\n",
       " ('쑥스럽', 0.27716678380966187),\n",
       " ('알아보', 0.27388766407966614),\n",
       " ('서툴', 0.2700473368167877),\n",
       " ('영', 0.2629474401473999),\n",
       " ('해지', 0.25372934341430664)]"
      ]
     },
     "execution_count": 256,
     "metadata": {},
     "output_type": "execute_result"
    }
   ],
   "source": [
    "model_result = model_kkma.wv.most_similar(\"기쁨\")\n",
    "model_result"
   ]
  },
  {
   "cell_type": "code",
   "execution_count": 257,
   "id": "ad535b11",
   "metadata": {},
   "outputs": [
    {
     "ename": "KeyError",
     "evalue": "\"Key '분노' not present\"",
     "output_type": "error",
     "traceback": [
      "\u001b[1;31m---------------------------------------------------------------------------\u001b[0m",
      "\u001b[1;31mKeyError\u001b[0m                                  Traceback (most recent call last)",
      "\u001b[1;32m~\\AppData\\Local\\Temp/ipykernel_13036/1863756826.py\u001b[0m in \u001b[0;36m<module>\u001b[1;34m\u001b[0m\n\u001b[1;32m----> 1\u001b[1;33m \u001b[0mmodel_result\u001b[0m \u001b[1;33m=\u001b[0m \u001b[0mmodel_kkma\u001b[0m\u001b[1;33m.\u001b[0m\u001b[0mwv\u001b[0m\u001b[1;33m.\u001b[0m\u001b[0mmost_similar\u001b[0m\u001b[1;33m(\u001b[0m\u001b[1;34m\"분노\"\u001b[0m\u001b[1;33m)\u001b[0m\u001b[1;33m\u001b[0m\u001b[1;33m\u001b[0m\u001b[0m\n\u001b[0m\u001b[0;32m      2\u001b[0m \u001b[0mmodel_result\u001b[0m\u001b[1;33m\u001b[0m\u001b[1;33m\u001b[0m\u001b[0m\n",
      "\u001b[1;32m~\\anaconda3\\lib\\site-packages\\gensim\\models\\keyedvectors.py\u001b[0m in \u001b[0;36mmost_similar\u001b[1;34m(self, positive, negative, topn, clip_start, clip_end, restrict_vocab, indexer)\u001b[0m\n\u001b[0;32m    771\u001b[0m                 \u001b[0mmean\u001b[0m\u001b[1;33m.\u001b[0m\u001b[0mappend\u001b[0m\u001b[1;33m(\u001b[0m\u001b[0mweight\u001b[0m \u001b[1;33m*\u001b[0m \u001b[0mkey\u001b[0m\u001b[1;33m)\u001b[0m\u001b[1;33m\u001b[0m\u001b[1;33m\u001b[0m\u001b[0m\n\u001b[0;32m    772\u001b[0m             \u001b[1;32melse\u001b[0m\u001b[1;33m:\u001b[0m\u001b[1;33m\u001b[0m\u001b[1;33m\u001b[0m\u001b[0m\n\u001b[1;32m--> 773\u001b[1;33m                 \u001b[0mmean\u001b[0m\u001b[1;33m.\u001b[0m\u001b[0mappend\u001b[0m\u001b[1;33m(\u001b[0m\u001b[0mweight\u001b[0m \u001b[1;33m*\u001b[0m \u001b[0mself\u001b[0m\u001b[1;33m.\u001b[0m\u001b[0mget_vector\u001b[0m\u001b[1;33m(\u001b[0m\u001b[0mkey\u001b[0m\u001b[1;33m,\u001b[0m \u001b[0mnorm\u001b[0m\u001b[1;33m=\u001b[0m\u001b[1;32mTrue\u001b[0m\u001b[1;33m)\u001b[0m\u001b[1;33m)\u001b[0m\u001b[1;33m\u001b[0m\u001b[1;33m\u001b[0m\u001b[0m\n\u001b[0m\u001b[0;32m    774\u001b[0m                 \u001b[1;32mif\u001b[0m \u001b[0mself\u001b[0m\u001b[1;33m.\u001b[0m\u001b[0mhas_index_for\u001b[0m\u001b[1;33m(\u001b[0m\u001b[0mkey\u001b[0m\u001b[1;33m)\u001b[0m\u001b[1;33m:\u001b[0m\u001b[1;33m\u001b[0m\u001b[1;33m\u001b[0m\u001b[0m\n\u001b[0;32m    775\u001b[0m                     \u001b[0mall_keys\u001b[0m\u001b[1;33m.\u001b[0m\u001b[0madd\u001b[0m\u001b[1;33m(\u001b[0m\u001b[0mself\u001b[0m\u001b[1;33m.\u001b[0m\u001b[0mget_index\u001b[0m\u001b[1;33m(\u001b[0m\u001b[0mkey\u001b[0m\u001b[1;33m)\u001b[0m\u001b[1;33m)\u001b[0m\u001b[1;33m\u001b[0m\u001b[1;33m\u001b[0m\u001b[0m\n",
      "\u001b[1;32m~\\anaconda3\\lib\\site-packages\\gensim\\models\\keyedvectors.py\u001b[0m in \u001b[0;36mget_vector\u001b[1;34m(self, key, norm)\u001b[0m\n\u001b[0;32m    436\u001b[0m \u001b[1;33m\u001b[0m\u001b[0m\n\u001b[0;32m    437\u001b[0m         \"\"\"\n\u001b[1;32m--> 438\u001b[1;33m         \u001b[0mindex\u001b[0m \u001b[1;33m=\u001b[0m \u001b[0mself\u001b[0m\u001b[1;33m.\u001b[0m\u001b[0mget_index\u001b[0m\u001b[1;33m(\u001b[0m\u001b[0mkey\u001b[0m\u001b[1;33m)\u001b[0m\u001b[1;33m\u001b[0m\u001b[1;33m\u001b[0m\u001b[0m\n\u001b[0m\u001b[0;32m    439\u001b[0m         \u001b[1;32mif\u001b[0m \u001b[0mnorm\u001b[0m\u001b[1;33m:\u001b[0m\u001b[1;33m\u001b[0m\u001b[1;33m\u001b[0m\u001b[0m\n\u001b[0;32m    440\u001b[0m             \u001b[0mself\u001b[0m\u001b[1;33m.\u001b[0m\u001b[0mfill_norms\u001b[0m\u001b[1;33m(\u001b[0m\u001b[1;33m)\u001b[0m\u001b[1;33m\u001b[0m\u001b[1;33m\u001b[0m\u001b[0m\n",
      "\u001b[1;32m~\\anaconda3\\lib\\site-packages\\gensim\\models\\keyedvectors.py\u001b[0m in \u001b[0;36mget_index\u001b[1;34m(self, key, default)\u001b[0m\n\u001b[0;32m    410\u001b[0m             \u001b[1;32mreturn\u001b[0m \u001b[0mdefault\u001b[0m\u001b[1;33m\u001b[0m\u001b[1;33m\u001b[0m\u001b[0m\n\u001b[0;32m    411\u001b[0m         \u001b[1;32melse\u001b[0m\u001b[1;33m:\u001b[0m\u001b[1;33m\u001b[0m\u001b[1;33m\u001b[0m\u001b[0m\n\u001b[1;32m--> 412\u001b[1;33m             \u001b[1;32mraise\u001b[0m \u001b[0mKeyError\u001b[0m\u001b[1;33m(\u001b[0m\u001b[1;34mf\"Key '{key}' not present\"\u001b[0m\u001b[1;33m)\u001b[0m\u001b[1;33m\u001b[0m\u001b[1;33m\u001b[0m\u001b[0m\n\u001b[0m\u001b[0;32m    413\u001b[0m \u001b[1;33m\u001b[0m\u001b[0m\n\u001b[0;32m    414\u001b[0m     \u001b[1;32mdef\u001b[0m \u001b[0mget_vector\u001b[0m\u001b[1;33m(\u001b[0m\u001b[0mself\u001b[0m\u001b[1;33m,\u001b[0m \u001b[0mkey\u001b[0m\u001b[1;33m,\u001b[0m \u001b[0mnorm\u001b[0m\u001b[1;33m=\u001b[0m\u001b[1;32mFalse\u001b[0m\u001b[1;33m)\u001b[0m\u001b[1;33m:\u001b[0m\u001b[1;33m\u001b[0m\u001b[1;33m\u001b[0m\u001b[0m\n",
      "\u001b[1;31mKeyError\u001b[0m: \"Key '분노' not present\""
     ]
    }
   ],
   "source": [
    "model_result = model_kkma.wv.most_similar(\"분노\")\n",
    "model_result"
   ]
  },
  {
   "cell_type": "code",
   "execution_count": 258,
   "id": "c6ac8af0",
   "metadata": {},
   "outputs": [
    {
     "data": {
      "text/plain": [
       "[('턴', 0.5358015894889832),\n",
       " ('급격', 0.4776018261909485),\n",
       " ('부', 0.4711739122867584),\n",
       " ('고되', 0.4673602283000946),\n",
       " ('정신없이', 0.4399082064628601),\n",
       " ('조', 0.4297092854976654),\n",
       " ('단조', 0.4259205162525177),\n",
       " ('불구', 0.41605281829833984),\n",
       " ('덩이', 0.41414356231689453),\n",
       " ('가보', 0.39826124906539917)]"
      ]
     },
     "execution_count": 258,
     "metadata": {},
     "output_type": "execute_result"
    }
   ],
   "source": [
    "model_result = model_kkma.wv.most_similar(\"불안\")\n",
    "model_result"
   ]
  },
  {
   "cell_type": "code",
   "execution_count": 259,
   "id": "ad8e0a45",
   "metadata": {},
   "outputs": [
    {
     "data": {
      "text/plain": [
       "[('틈', 0.7563535571098328),\n",
       " ('무장', 0.511298418045044),\n",
       " ('타', 0.4125429689884186),\n",
       " ('뭐하', 0.3908684551715851),\n",
       " ('가속도', 0.39082100987434387),\n",
       " ('행인', 0.3777455687522888),\n",
       " ('4', 0.35735753178596497),\n",
       " ('가득히', 0.33342939615249634),\n",
       " ('귀엽', 0.31433340907096863),\n",
       " ('45', 0.3133270740509033)]"
      ]
     },
     "execution_count": 259,
     "metadata": {},
     "output_type": "execute_result"
    }
   ],
   "source": [
    "model_result = model_kkma.wv.most_similar(\"당황\")\n",
    "model_result"
   ]
  },
  {
   "cell_type": "code",
   "execution_count": 261,
   "id": "9dbcd498",
   "metadata": {},
   "outputs": [
    {
     "data": {
      "text/plain": [
       "[('고난', 0.7097618579864502),\n",
       " ('외로움', 0.6744911074638367),\n",
       " ('진화', 0.6496166586875916),\n",
       " ('적대적', 0.6092590689659119),\n",
       " ('아픔', 0.5503123998641968),\n",
       " ('시키', 0.5212857127189636),\n",
       " ('누르', 0.5006123185157776),\n",
       " ('넘기', 0.43351590633392334),\n",
       " ('일주일', 0.39103469252586365),\n",
       " ('함의', 0.3880082368850708)]"
      ]
     },
     "execution_count": 261,
     "metadata": {},
     "output_type": "execute_result"
    }
   ],
   "source": [
    "model_result = model_kkma.wv.most_similar(\"슬픔\")\n",
    "model_result"
   ]
  },
  {
   "cell_type": "code",
   "execution_count": 262,
   "id": "5f3c8ee8",
   "metadata": {},
   "outputs": [
    {
     "data": {
      "text/plain": [
       "[('쓰라리', 0.5179724097251892),\n",
       " ('그래', 0.502568244934082),\n",
       " ('돌리기', 0.4837334454059601),\n",
       " ('일으키', 0.4433317184448242),\n",
       " ('무디', 0.43898090720176697),\n",
       " ('잠시', 0.4295535087585449),\n",
       " ('수줍', 0.4247267246246338),\n",
       " ('서투르', 0.42336171865463257),\n",
       " ('뒤', 0.3687796890735626),\n",
       " ('도망', 0.36374935507774353)]"
      ]
     },
     "execution_count": 262,
     "metadata": {},
     "output_type": "execute_result"
    }
   ],
   "source": [
    "model_result = model_kkma.wv.most_similar(\"상처\")\n",
    "model_result"
   ]
  },
  {
   "cell_type": "code",
   "execution_count": null,
   "id": "c5a0b7f6",
   "metadata": {},
   "outputs": [],
   "source": []
  }
 ],
 "metadata": {
  "kernelspec": {
   "display_name": "Python 3 (ipykernel)",
   "language": "python",
   "name": "python3"
  },
  "language_info": {
   "codemirror_mode": {
    "name": "ipython",
    "version": 3
   },
   "file_extension": ".py",
   "mimetype": "text/x-python",
   "name": "python",
   "nbconvert_exporter": "python",
   "pygments_lexer": "ipython3",
   "version": "3.8.8"
  }
 },
 "nbformat": 4,
 "nbformat_minor": 5
}
