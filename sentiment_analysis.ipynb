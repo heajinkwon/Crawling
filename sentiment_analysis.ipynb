{
 "cells": [
  {
   "cell_type": "markdown",
   "id": "0797fe52",
   "metadata": {},
   "source": [
    "## 불용어 제거, 토큰화, POS 태깅 단계는 필수\n",
    "<p> 영문 한글로 번역 필요"
   ]
  },
  {
   "cell_type": "code",
   "execution_count": 1,
   "id": "2d4048e3",
   "metadata": {},
   "outputs": [
    {
     "name": "stdout",
     "output_type": "stream",
     "text": [
      "token :  ['나', '는', ',', '지금', '기쁘', '다', '.']\n"
     ]
    }
   ],
   "source": [
    "from konlpy.tag import Kkma\n",
    "\n",
    "sentence= \"나는, 지금 기쁘다.\"\n",
    "kkma = Kkma()\n",
    "token = kkma.morphs(sentence)\n",
    "print(\"token : \",token)"
   ]
  },
  {
   "cell_type": "code",
   "execution_count": 2,
   "id": "9db26dd7",
   "metadata": {},
   "outputs": [
    {
     "name": "stdout",
     "output_type": "stream",
     "text": [
      "tagging :  [[('나', 'NNG')], [('늘', 'VA'), ('ㄴ', 'ETD')], [(',', 'SP')], [('지금', 'NNG')], [('기쁘', 'VA')], [('다', 'NNG')], [('.', 'SF')]]\n"
     ]
    }
   ],
   "source": [
    "tagging_kkma = []\n",
    "for i in token :\n",
    "    tag_word = kkma.pos(i)\n",
    "    tagging_kkma.append(tag_word)\n",
    "    \n",
    "print(\"tagging : \",tagging_kkma)"
   ]
  },
  {
   "cell_type": "code",
   "execution_count": 35,
   "id": "a1bbec6b",
   "metadata": {},
   "outputs": [
    {
     "name": "stdout",
     "output_type": "stream",
     "text": [
      "[',', '.']\n"
     ]
    },
    {
     "data": {
      "text/plain": [
       "[('나', 'NNG'),\n",
       " ('늘', 'VA'),\n",
       " ('ㄴ', 'ETD'),\n",
       " ('지금', 'NNG'),\n",
       " ('기쁘', 'VA'),\n",
       " ('다', 'NNG')]"
      ]
     },
     "execution_count": 35,
     "metadata": {},
     "output_type": "execute_result"
    }
   ],
   "source": [
    "stopword = []\n",
    "tagging_cut1_kkma = []\n",
    "\n",
    "for i in range(len(tagging_kkma)) :\n",
    "    for word, tag in tagging_kkma[i] :\n",
    "        if tag in 'SF' or tag in 'SP'or tag in 'SS' or tag in 'SE' or tag in 'SO' or tag in 'SW' or tag in 'UN' or tag in 'OH' or tag in 'ON':\n",
    "            stopword.append(word)\n",
    "        else :\n",
    "            value = (word,tag)\n",
    "            tagging_cut1_kkma.append(value)\n",
    "            \n",
    "print(stopword)\n",
    "tagging_cut1_kkma"
   ]
  },
  {
   "cell_type": "code",
   "execution_count": null,
   "id": "87e9b9e6",
   "metadata": {},
   "outputs": [],
   "source": []
  },
  {
   "cell_type": "code",
   "execution_count": null,
   "id": "27b4a2cf",
   "metadata": {},
   "outputs": [],
   "source": []
  },
  {
   "cell_type": "markdown",
   "id": "c3310f26",
   "metadata": {},
   "source": [
    "# 감성분석 회귀분석 예측"
   ]
  },
  {
   "attachments": {},
   "cell_type": "markdown",
   "id": "9527a91e",
   "metadata": {},
   "source": [
    "<p> 0 : 슬픔 상처 </p>\n",
    "<p> 1 : 기쁨 행복</p>\n",
    "<p> 2 : 분노 불안 당황 놀람</p>"
   ]
  },
  {
   "cell_type": "code",
   "execution_count": 20,
   "id": "97305a2d",
   "metadata": {},
   "outputs": [
    {
     "data": {
      "text/html": [
       "<div>\n",
       "<style scoped>\n",
       "    .dataframe tbody tr th:only-of-type {\n",
       "        vertical-align: middle;\n",
       "    }\n",
       "\n",
       "    .dataframe tbody tr th {\n",
       "        vertical-align: top;\n",
       "    }\n",
       "\n",
       "    .dataframe thead th {\n",
       "        text-align: right;\n",
       "    }\n",
       "</style>\n",
       "<table border=\"1\" class=\"dataframe\">\n",
       "  <thead>\n",
       "    <tr style=\"text-align: right;\">\n",
       "      <th></th>\n",
       "      <th>person1</th>\n",
       "      <th>label</th>\n",
       "    </tr>\n",
       "  </thead>\n",
       "  <tbody>\n",
       "    <tr>\n",
       "      <th>0</th>\n",
       "      <td>지금 난 기분이 너무 좋아.</td>\n",
       "      <td>1</td>\n",
       "    </tr>\n",
       "    <tr>\n",
       "      <th>1</th>\n",
       "      <td>나도 조카가 생겨! 너무 기뻐.</td>\n",
       "      <td>1</td>\n",
       "    </tr>\n",
       "    <tr>\n",
       "      <th>2</th>\n",
       "      <td>거래처와의 다음 계약이 무산될까봐 불안해.</td>\n",
       "      <td>2</td>\n",
       "    </tr>\n",
       "    <tr>\n",
       "      <th>3</th>\n",
       "      <td>당뇨로 고생 중인데 아내가 이혼하자더군. 아내가 날 버리면 병은 더 악화될 텐데 세...</td>\n",
       "      <td>0</td>\n",
       "    </tr>\n",
       "    <tr>\n",
       "      <th>4</th>\n",
       "      <td>노년에 재정적으로 이루어 놓은게 없어서 걱정이야.</td>\n",
       "      <td>0</td>\n",
       "    </tr>\n",
       "  </tbody>\n",
       "</table>\n",
       "</div>"
      ],
      "text/plain": [
       "                                             person1  label\n",
       "0                                    지금 난 기분이 너무 좋아.      1\n",
       "1                                  나도 조카가 생겨! 너무 기뻐.      1\n",
       "2                            거래처와의 다음 계약이 무산될까봐 불안해.      2\n",
       "3  당뇨로 고생 중인데 아내가 이혼하자더군. 아내가 날 버리면 병은 더 악화될 텐데 세...      0\n",
       "4                        노년에 재정적으로 이루어 놓은게 없어서 걱정이야.      0"
      ]
     },
     "execution_count": 20,
     "metadata": {},
     "output_type": "execute_result"
    }
   ],
   "source": [
    "from sklearn.model_selection import train_test_split\n",
    "import pandas as pd\n",
    "from afinn import Afinn\n",
    "from nltk.corpus import stopwords\n",
    "import numpy as np\n",
    "from sklearn.feature_extraction.text import TfidfVectorizer\n",
    "\n",
    "dataset = pd.read_csv(\"person1_test.csv\",encoding = 'utf-8')\n",
    "dataset.head()"
   ]
  },
  {
   "cell_type": "code",
   "execution_count": 9,
   "id": "6b56e2a4",
   "metadata": {},
   "outputs": [
    {
     "data": {
      "text/plain": [
       "2    36194\n",
       "0    26213\n",
       "1    12449\n",
       "Name: label, dtype: int64"
      ]
     },
     "execution_count": 9,
     "metadata": {},
     "output_type": "execute_result"
    }
   ],
   "source": [
    "#데이터 분포\n",
    "dataset['label'].value_counts()"
   ]
  },
  {
   "cell_type": "code",
   "execution_count": 10,
   "id": "4932d436",
   "metadata": {},
   "outputs": [],
   "source": [
    "import re\n",
    "\n",
    "dataset = dataset.fillna(\" \")\n",
    "dataset['person1'] = dataset['person1'].apply(lambda x:re.sub(r\"\\d+\",\" \",x))\n",
    "\n",
    "x = dataset['person1']\n",
    "y = dataset['label']\n",
    "\n",
    "x_train, x_test, y_train, y_test = train_test_split(x,y, stratify = y, test_size=0.2)\n",
    "\n",
    "from konlpy.tag import Okt\n",
    "\n",
    "okt = Okt()\n",
    "def tw_tokenizer(text) :\n",
    "    tokens_ko = okt.morphs(text)\n",
    "    return tokens_ko"
   ]
  },
  {
   "cell_type": "code",
   "execution_count": 11,
   "id": "8267f3bd",
   "metadata": {},
   "outputs": [
    {
     "name": "stderr",
     "output_type": "stream",
     "text": [
      "C:\\Users\\sapb2\\anaconda3\\lib\\site-packages\\sklearn\\feature_extraction\\text.py:516: UserWarning: The parameter 'token_pattern' will not be used since 'tokenizer' is not None'\n",
      "  warnings.warn(\n"
     ]
    }
   ],
   "source": [
    "from sklearn.feature_extraction.text import TfidfVectorizer\n",
    "\n",
    "tfidf_vect = TfidfVectorizer(tokenizer= tw_tokenizer, ngram_range=(1,2), min_df=3, max_df=0.9)\n",
    "tfidf_vect.fit(x_train)\n",
    "tfidf_matrix_train = tfidf_vect.transform(x_train)"
   ]
  },
  {
   "cell_type": "code",
   "execution_count": 12,
   "id": "a4199851",
   "metadata": {},
   "outputs": [
    {
     "name": "stdout",
     "output_type": "stream",
     "text": [
      "fit time : 47.46849465370178\n"
     ]
    }
   ],
   "source": [
    "from lightgbm import LGBMClassifier\n",
    "import time\n",
    "\n",
    "start_time = time.time()\n",
    "\n",
    "lgbm_clf = LGBMClassifier(n_estimators= 400, n_jobs=-1)\n",
    "lgbm_clf.fit(tfidf_matrix_train, y_train)\n",
    "print(f'fit time : {time.time() - start_time}')"
   ]
  },
  {
   "cell_type": "code",
   "execution_count": 13,
   "id": "d71cec96",
   "metadata": {},
   "outputs": [
    {
     "data": {
      "text/plain": [
       "0.7032460593107134"
      ]
     },
     "execution_count": 13,
     "metadata": {},
     "output_type": "execute_result"
    }
   ],
   "source": [
    "from sklearn.metrics import accuracy_score\n",
    "\n",
    "tfidf_matrix_test = tfidf_vect.transform(x_test)\n",
    "preds = lgbm_clf.predict(tfidf_matrix_test)\n",
    "\n",
    "accuracy_score(y_test, preds)"
   ]
  },
  {
   "cell_type": "code",
   "execution_count": 22,
   "id": "6e94994e",
   "metadata": {},
   "outputs": [
    {
     "data": {
      "text/plain": [
       "'거래처와의 다음 계약이 무산될까봐 불안해.'"
      ]
     },
     "execution_count": 22,
     "metadata": {},
     "output_type": "execute_result"
    }
   ],
   "source": [
    "x_test[2]"
   ]
  },
  {
   "cell_type": "code",
   "execution_count": 23,
   "id": "720d8322",
   "metadata": {},
   "outputs": [
    {
     "data": {
      "text/plain": [
       "array([2], dtype=int64)"
      ]
     },
     "execution_count": 23,
     "metadata": {},
     "output_type": "execute_result"
    }
   ],
   "source": [
    "lgbm_clf.predict(tfidf_vect.transform([x_test[2]]))"
   ]
  },
  {
   "cell_type": "code",
   "execution_count": null,
   "id": "8162dd97",
   "metadata": {},
   "outputs": [],
   "source": []
  }
 ],
 "metadata": {
  "kernelspec": {
   "display_name": "Python 3 (ipykernel)",
   "language": "python",
   "name": "python3"
  },
  "language_info": {
   "codemirror_mode": {
    "name": "ipython",
    "version": 3
   },
   "file_extension": ".py",
   "mimetype": "text/x-python",
   "name": "python",
   "nbconvert_exporter": "python",
   "pygments_lexer": "ipython3",
   "version": "3.8.8"
  }
 },
 "nbformat": 4,
 "nbformat_minor": 5
}
