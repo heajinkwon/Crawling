{
 "cells": [
  {
   "cell_type": "markdown",
   "id": "0797fe52",
   "metadata": {},
   "source": [
    "## 불용어 제거, 토큰화, POS 태깅 단계는 필수\n",
    "<p> 영문 한글로 번역 필요"
   ]
  },
  {
   "cell_type": "code",
   "execution_count": 91,
   "id": "2d4048e3",
   "metadata": {},
   "outputs": [
    {
     "name": "stdout",
     "output_type": "stream",
     "text": [
      "token :  ['나', '는', ',', '지금', '기쁘', '다', '.']\n"
     ]
    }
   ],
   "source": [
    "from konlpy.tag import Kkma\n",
    "\n",
    "sentence= \"나는, 지금 기쁘다.\"\n",
    "kkma = Kkma()\n",
    "token = kkma.morphs(sentence)\n",
    "print(\"token : \",token)"
   ]
  },
  {
   "cell_type": "code",
   "execution_count": 92,
   "id": "9db26dd7",
   "metadata": {},
   "outputs": [
    {
     "name": "stdout",
     "output_type": "stream",
     "text": [
      "tagging :  [[('나', 'NNG')], [('늘', 'VA'), ('ㄴ', 'ETD')], [(',', 'SP')], [('지금', 'NNG')], [('기쁘', 'VA')], [('다', 'NNG')], [('.', 'SF')]]\n"
     ]
    }
   ],
   "source": [
    "tagging_kkma = []\n",
    "for i in token :\n",
    "    tag_word = kkma.pos(i)\n",
    "    tagging_kkma.append(tag_word)\n",
    "    \n",
    "print(\"tagging : \",tagging_kkma)"
   ]
  },
  {
   "cell_type": "code",
   "execution_count": 93,
   "id": "a1bbec6b",
   "metadata": {},
   "outputs": [
    {
     "name": "stdout",
     "output_type": "stream",
     "text": [
      "[',', '.']\n"
     ]
    },
    {
     "data": {
      "text/plain": [
       "[('나', 'NNG'),\n",
       " ('늘', 'VA'),\n",
       " ('ㄴ', 'ETD'),\n",
       " ('지금', 'NNG'),\n",
       " ('기쁘', 'VA'),\n",
       " ('다', 'NNG')]"
      ]
     },
     "execution_count": 93,
     "metadata": {},
     "output_type": "execute_result"
    }
   ],
   "source": [
    "stopword = []\n",
    "tagging_cut1_kkma = []\n",
    "\n",
    "for i in range(len(tagging_kkma)) :\n",
    "    for word, tag in tagging_kkma[i] :\n",
    "        if tag in 'SF' or tag in 'SP'or tag in 'SS' or tag in 'SE' or tag in 'SO' or tag in 'SW' or tag in 'UN' or tag in 'OH' or tag in 'ON':\n",
    "            stopword.append(word)\n",
    "        else :\n",
    "            value = (word,tag)\n",
    "            tagging_cut1_kkma.append(value)\n",
    "            \n",
    "print(stopword)\n",
    "tagging_cut1_kkma"
   ]
  },
  {
   "cell_type": "code",
   "execution_count": null,
   "id": "b0db86a5",
   "metadata": {},
   "outputs": [],
   "source": []
  },
  {
   "cell_type": "code",
   "execution_count": null,
   "id": "9db5dc6c",
   "metadata": {},
   "outputs": [],
   "source": []
  },
  {
   "cell_type": "markdown",
   "id": "14faa620",
   "metadata": {},
   "source": [
    "# 감성분석 회귀분석 예측"
   ]
  },
  {
   "cell_type": "markdown",
   "id": "dc95418d",
   "metadata": {},
   "source": [
    "<p> 0 : 기쁨 행복</p>\n",
    "<p> 1 : 분노 불안 당황 놀람</p>\n",
    "<p> 2: 슬픔 상처 </p>"
   ]
  },
  {
   "cell_type": "code",
   "execution_count": 94,
   "id": "97305a2d",
   "metadata": {},
   "outputs": [
    {
     "data": {
      "text/html": [
       "<div>\n",
       "<style scoped>\n",
       "    .dataframe tbody tr th:only-of-type {\n",
       "        vertical-align: middle;\n",
       "    }\n",
       "\n",
       "    .dataframe tbody tr th {\n",
       "        vertical-align: top;\n",
       "    }\n",
       "\n",
       "    .dataframe thead th {\n",
       "        text-align: right;\n",
       "    }\n",
       "</style>\n",
       "<table border=\"1\" class=\"dataframe\">\n",
       "  <thead>\n",
       "    <tr style=\"text-align: right;\">\n",
       "      <th></th>\n",
       "      <th>number</th>\n",
       "      <th>value</th>\n",
       "      <th>age</th>\n",
       "      <th>sex</th>\n",
       "      <th>keyword</th>\n",
       "      <th>disease</th>\n",
       "      <th>sentiment_big</th>\n",
       "      <th>sentiment_small</th>\n",
       "      <th>person1</th>\n",
       "      <th>system1</th>\n",
       "      <th>person2</th>\n",
       "      <th>system2</th>\n",
       "      <th>person3</th>\n",
       "      <th>system3</th>\n",
       "    </tr>\n",
       "  </thead>\n",
       "  <tbody>\n",
       "    <tr>\n",
       "      <th>0</th>\n",
       "      <td>24070</td>\n",
       "      <td>1</td>\n",
       "      <td>청년</td>\n",
       "      <td>여성</td>\n",
       "      <td>진로, 취업, 직장</td>\n",
       "      <td>해당없음</td>\n",
       "      <td>기쁨</td>\n",
       "      <td>신이 난</td>\n",
       "      <td>지금 난 기분이 너무 좋아.</td>\n",
       "      <td>굉장히 즐거우신 것 같은데요? 좋은 일이 있나요?</td>\n",
       "      <td>오늘부터 연휴가 시작됐거든. 내일 회사 안 간다.</td>\n",
       "      <td>그거 정말 기분 좋을 만하네요. 무엇을 할 예정인가요?</td>\n",
       "      <td>그냥 집에서 뒹굴뒹굴하고 넷플릭스 보고 놀 거야.</td>\n",
       "      <td>집에서 노는 것이 최고죠. 생각만 해도 행복하겠어요.</td>\n",
       "    </tr>\n",
       "    <tr>\n",
       "      <th>1</th>\n",
       "      <td>27879</td>\n",
       "      <td>1</td>\n",
       "      <td>청년</td>\n",
       "      <td>여성</td>\n",
       "      <td>연애, 결혼, 출산</td>\n",
       "      <td>해당없음</td>\n",
       "      <td>기쁨</td>\n",
       "      <td>신이 난</td>\n",
       "      <td>나도 조카가 생겨! 너무 기뻐.</td>\n",
       "      <td>정말 좋은 소식이네요. 축하할 특별한 계획이 있을까요?</td>\n",
       "      <td>응. 언니에게 꽃다발을 선물할 거야. 예쁜 딸이면 좋을 것 같아서.</td>\n",
       "      <td>언니에게 꽃을 선물하려고 하시는군요.</td>\n",
       "      <td>NaN</td>\n",
       "      <td>NaN</td>\n",
       "    </tr>\n",
       "    <tr>\n",
       "      <th>2</th>\n",
       "      <td>51471</td>\n",
       "      <td>1</td>\n",
       "      <td>중년</td>\n",
       "      <td>여성</td>\n",
       "      <td>직장, 업무 스트레스</td>\n",
       "      <td>해당없음</td>\n",
       "      <td>불안</td>\n",
       "      <td>불안</td>\n",
       "      <td>거래처와의 다음 계약이 무산될까봐 불안해.</td>\n",
       "      <td>많이 걱정되시겠어요. 계약이 무산될 것 같다고 생각하는 이유가 있으신가요?</td>\n",
       "      <td>딱히 이유는 없어. 그냥 나 혼자 불안한 상태야.</td>\n",
       "      <td>계약을 성공적으로 마무리하실 수 있기를 기원해요.</td>\n",
       "      <td>NaN</td>\n",
       "      <td>NaN</td>\n",
       "    </tr>\n",
       "    <tr>\n",
       "      <th>3</th>\n",
       "      <td>7140</td>\n",
       "      <td>1</td>\n",
       "      <td>노년</td>\n",
       "      <td>남성</td>\n",
       "      <td>대인관계</td>\n",
       "      <td>만성질환 유</td>\n",
       "      <td>슬픔</td>\n",
       "      <td>염세적인</td>\n",
       "      <td>당뇨로 고생 중인데 아내가 이혼하자더군. 아내가 날 버리면 병은 더 악화될 텐데 세...</td>\n",
       "      <td>몸이 아픈데 아내가 이혼하자고 하니 혼자 있는 것 같은 기분을 느끼셨군요.</td>\n",
       "      <td>젊은 시절에 가정에 소홀했지. 그래도 그렇지 이혼을 하자니 너무 허망해.</td>\n",
       "      <td>지금의 기분에서 벗어나기 위해 무엇을 하면 좋을까요?</td>\n",
       "      <td>아내에게 졸혼은 어떤지 대화를 나누어 봐야겠어. 졸혼을 한다면 가끔씩이라도 도움을 ...</td>\n",
       "      <td>아내와의 대화로 기분이 나아졌으면 좋겠어요.</td>\n",
       "    </tr>\n",
       "    <tr>\n",
       "      <th>4</th>\n",
       "      <td>39663</td>\n",
       "      <td>1</td>\n",
       "      <td>노년</td>\n",
       "      <td>남성</td>\n",
       "      <td>재정</td>\n",
       "      <td>만성질환 유</td>\n",
       "      <td>슬픔</td>\n",
       "      <td>마비된</td>\n",
       "      <td>노년에 재정적으로 이루어 놓은게 없어서 걱정이야.</td>\n",
       "      <td>나이들어 재정적으로 어려워서 걱정되시는군요.</td>\n",
       "      <td>정말이지 막막해.</td>\n",
       "      <td>막막한 현실이지만 분명 해결책을 찾을 수 있을거예요.</td>\n",
       "      <td>NaN</td>\n",
       "      <td>NaN</td>\n",
       "    </tr>\n",
       "  </tbody>\n",
       "</table>\n",
       "</div>"
      ],
      "text/plain": [
       "   number  value age sex      keyword disease sentiment_big sentiment_small  \\\n",
       "0   24070      1  청년  여성   진로, 취업, 직장    해당없음            기쁨            신이 난   \n",
       "1   27879      1  청년  여성   연애, 결혼, 출산    해당없음            기쁨            신이 난   \n",
       "2   51471      1  중년  여성  직장, 업무 스트레스    해당없음            불안              불안   \n",
       "3    7140      1  노년  남성         대인관계  만성질환 유            슬픔            염세적인   \n",
       "4   39663      1  노년  남성           재정  만성질환 유            슬픔             마비된   \n",
       "\n",
       "                                             person1  \\\n",
       "0                                    지금 난 기분이 너무 좋아.   \n",
       "1                                  나도 조카가 생겨! 너무 기뻐.   \n",
       "2                            거래처와의 다음 계약이 무산될까봐 불안해.   \n",
       "3  당뇨로 고생 중인데 아내가 이혼하자더군. 아내가 날 버리면 병은 더 악화될 텐데 세...   \n",
       "4                        노년에 재정적으로 이루어 놓은게 없어서 걱정이야.   \n",
       "\n",
       "                                     system1  \\\n",
       "0                굉장히 즐거우신 것 같은데요? 좋은 일이 있나요?   \n",
       "1             정말 좋은 소식이네요. 축하할 특별한 계획이 있을까요?   \n",
       "2  많이 걱정되시겠어요. 계약이 무산될 것 같다고 생각하는 이유가 있으신가요?   \n",
       "3  몸이 아픈데 아내가 이혼하자고 하니 혼자 있는 것 같은 기분을 느끼셨군요.   \n",
       "4                   나이들어 재정적으로 어려워서 걱정되시는군요.   \n",
       "\n",
       "                                    person2                         system2  \\\n",
       "0               오늘부터 연휴가 시작됐거든. 내일 회사 안 간다.  그거 정말 기분 좋을 만하네요. 무엇을 할 예정인가요?   \n",
       "1     응. 언니에게 꽃다발을 선물할 거야. 예쁜 딸이면 좋을 것 같아서.            언니에게 꽃을 선물하려고 하시는군요.   \n",
       "2               딱히 이유는 없어. 그냥 나 혼자 불안한 상태야.     계약을 성공적으로 마무리하실 수 있기를 기원해요.   \n",
       "3  젊은 시절에 가정에 소홀했지. 그래도 그렇지 이혼을 하자니 너무 허망해.   지금의 기분에서 벗어나기 위해 무엇을 하면 좋을까요?   \n",
       "4                                 정말이지 막막해.   막막한 현실이지만 분명 해결책을 찾을 수 있을거예요.   \n",
       "\n",
       "                                             person3  \\\n",
       "0                        그냥 집에서 뒹굴뒹굴하고 넷플릭스 보고 놀 거야.   \n",
       "1                                                NaN   \n",
       "2                                                NaN   \n",
       "3  아내에게 졸혼은 어떤지 대화를 나누어 봐야겠어. 졸혼을 한다면 가끔씩이라도 도움을 ...   \n",
       "4                                                NaN   \n",
       "\n",
       "                         system3  \n",
       "0  집에서 노는 것이 최고죠. 생각만 해도 행복하겠어요.  \n",
       "1                            NaN  \n",
       "2                            NaN  \n",
       "3       아내와의 대화로 기분이 나아졌으면 좋겠어요.  \n",
       "4                            NaN  "
      ]
     },
     "execution_count": 94,
     "metadata": {},
     "output_type": "execute_result"
    }
   ],
   "source": [
    "from sklearn.model_selection import train_test_split\n",
    "import pandas as pd\n",
    "from afinn import Afinn\n",
    "from nltk.corpus import stopwords\n",
    "import numpy as np\n",
    "from sklearn.feature_extraction.text import TfidfVectorizer\n",
    "\n",
    "dataset = pd.read_csv(\"sentiment_analysis.csv\",encoding = 'utf-8')\n",
    "dataset.head()"
   ]
  },
  {
   "cell_type": "code",
   "execution_count": 139,
   "id": "a48a732d",
   "metadata": {},
   "outputs": [
    {
     "data": {
      "text/html": [
       "<div>\n",
       "<style scoped>\n",
       "    .dataframe tbody tr th:only-of-type {\n",
       "        vertical-align: middle;\n",
       "    }\n",
       "\n",
       "    .dataframe tbody tr th {\n",
       "        vertical-align: top;\n",
       "    }\n",
       "\n",
       "    .dataframe thead th {\n",
       "        text-align: right;\n",
       "    }\n",
       "</style>\n",
       "<table border=\"1\" class=\"dataframe\">\n",
       "  <thead>\n",
       "    <tr style=\"text-align: right;\">\n",
       "      <th></th>\n",
       "      <th>label</th>\n",
       "      <th>text</th>\n",
       "    </tr>\n",
       "  </thead>\n",
       "  <tbody>\n",
       "    <tr>\n",
       "      <th>0</th>\n",
       "      <td>0</td>\n",
       "      <td>지금 난 기분이 너무 좋아.</td>\n",
       "    </tr>\n",
       "    <tr>\n",
       "      <th>1</th>\n",
       "      <td>0</td>\n",
       "      <td>나도 조카가 생겨! 너무 기뻐.</td>\n",
       "    </tr>\n",
       "    <tr>\n",
       "      <th>2</th>\n",
       "      <td>1</td>\n",
       "      <td>거래처와의 다음 계약이 무산될까봐 불안해.</td>\n",
       "    </tr>\n",
       "    <tr>\n",
       "      <th>3</th>\n",
       "      <td>2</td>\n",
       "      <td>당뇨로 고생 중인데 아내가 이혼하자더군. 아내가 날 버리면 병은 더 악화될 텐데 세...</td>\n",
       "    </tr>\n",
       "    <tr>\n",
       "      <th>4</th>\n",
       "      <td>2</td>\n",
       "      <td>노년에 재정적으로 이루어 놓은게 없어서 걱정이야.</td>\n",
       "    </tr>\n",
       "  </tbody>\n",
       "</table>\n",
       "</div>"
      ],
      "text/plain": [
       "   label                                               text\n",
       "0      0                                    지금 난 기분이 너무 좋아.\n",
       "1      0                                  나도 조카가 생겨! 너무 기뻐.\n",
       "2      1                            거래처와의 다음 계약이 무산될까봐 불안해.\n",
       "3      2  당뇨로 고생 중인데 아내가 이혼하자더군. 아내가 날 버리면 병은 더 악화될 텐데 세...\n",
       "4      2                        노년에 재정적으로 이루어 놓은게 없어서 걱정이야."
      ]
     },
     "execution_count": 139,
     "metadata": {},
     "output_type": "execute_result"
    }
   ],
   "source": [
    "sentimential_list = {'기쁨': 0, '분노' : 1, '불안' : 1, '당황' : 1, '슬픔' : 2, '상처' : 2, '행복' : 0}\n",
    "\n",
    "data1 = pd.DataFrame()\n",
    "data1['label'] = dataset['sentiment_big'].map(sentimential_list)\n",
    "data1['text'] = dataset['person1']\n",
    "data1.reset_index()\n",
    "data1.head()"
   ]
  },
  {
   "cell_type": "code",
   "execution_count": 140,
   "id": "8a1071b2",
   "metadata": {},
   "outputs": [
    {
     "data": {
      "text/html": [
       "<div>\n",
       "<style scoped>\n",
       "    .dataframe tbody tr th:only-of-type {\n",
       "        vertical-align: middle;\n",
       "    }\n",
       "\n",
       "    .dataframe tbody tr th {\n",
       "        vertical-align: top;\n",
       "    }\n",
       "\n",
       "    .dataframe thead th {\n",
       "        text-align: right;\n",
       "    }\n",
       "</style>\n",
       "<table border=\"1\" class=\"dataframe\">\n",
       "  <thead>\n",
       "    <tr style=\"text-align: right;\">\n",
       "      <th></th>\n",
       "      <th>label</th>\n",
       "      <th>text</th>\n",
       "    </tr>\n",
       "  </thead>\n",
       "  <tbody>\n",
       "    <tr>\n",
       "      <th>0</th>\n",
       "      <td>0</td>\n",
       "      <td>굉장히 즐거우신 것 같은데요? 좋은 일이 있나요?</td>\n",
       "    </tr>\n",
       "    <tr>\n",
       "      <th>1</th>\n",
       "      <td>0</td>\n",
       "      <td>정말 좋은 소식이네요. 축하할 특별한 계획이 있을까요?</td>\n",
       "    </tr>\n",
       "    <tr>\n",
       "      <th>2</th>\n",
       "      <td>1</td>\n",
       "      <td>많이 걱정되시겠어요. 계약이 무산될 것 같다고 생각하는 이유가 있으신가요?</td>\n",
       "    </tr>\n",
       "    <tr>\n",
       "      <th>3</th>\n",
       "      <td>2</td>\n",
       "      <td>몸이 아픈데 아내가 이혼하자고 하니 혼자 있는 것 같은 기분을 느끼셨군요.</td>\n",
       "    </tr>\n",
       "    <tr>\n",
       "      <th>4</th>\n",
       "      <td>2</td>\n",
       "      <td>나이들어 재정적으로 어려워서 걱정되시는군요.</td>\n",
       "    </tr>\n",
       "  </tbody>\n",
       "</table>\n",
       "</div>"
      ],
      "text/plain": [
       "   label                                       text\n",
       "0      0                굉장히 즐거우신 것 같은데요? 좋은 일이 있나요?\n",
       "1      0             정말 좋은 소식이네요. 축하할 특별한 계획이 있을까요?\n",
       "2      1  많이 걱정되시겠어요. 계약이 무산될 것 같다고 생각하는 이유가 있으신가요?\n",
       "3      2  몸이 아픈데 아내가 이혼하자고 하니 혼자 있는 것 같은 기분을 느끼셨군요.\n",
       "4      2                   나이들어 재정적으로 어려워서 걱정되시는군요."
      ]
     },
     "execution_count": 140,
     "metadata": {},
     "output_type": "execute_result"
    }
   ],
   "source": [
    "data2 = pd.DataFrame()\n",
    "data2['label'] = dataset['sentiment_big'].map(sentimential_list)\n",
    "data2['text'] = dataset['system1']\n",
    "data2.reset_index()\n",
    "data2.head()"
   ]
  },
  {
   "cell_type": "code",
   "execution_count": 141,
   "id": "ea4fc4b6",
   "metadata": {},
   "outputs": [
    {
     "data": {
      "text/html": [
       "<div>\n",
       "<style scoped>\n",
       "    .dataframe tbody tr th:only-of-type {\n",
       "        vertical-align: middle;\n",
       "    }\n",
       "\n",
       "    .dataframe tbody tr th {\n",
       "        vertical-align: top;\n",
       "    }\n",
       "\n",
       "    .dataframe thead th {\n",
       "        text-align: right;\n",
       "    }\n",
       "</style>\n",
       "<table border=\"1\" class=\"dataframe\">\n",
       "  <thead>\n",
       "    <tr style=\"text-align: right;\">\n",
       "      <th></th>\n",
       "      <th>label</th>\n",
       "      <th>text</th>\n",
       "    </tr>\n",
       "  </thead>\n",
       "  <tbody>\n",
       "    <tr>\n",
       "      <th>0</th>\n",
       "      <td>0</td>\n",
       "      <td>오늘부터 연휴가 시작됐거든. 내일 회사 안 간다.</td>\n",
       "    </tr>\n",
       "    <tr>\n",
       "      <th>1</th>\n",
       "      <td>0</td>\n",
       "      <td>응. 언니에게 꽃다발을 선물할 거야. 예쁜 딸이면 좋을 것 같아서.</td>\n",
       "    </tr>\n",
       "    <tr>\n",
       "      <th>2</th>\n",
       "      <td>1</td>\n",
       "      <td>딱히 이유는 없어. 그냥 나 혼자 불안한 상태야.</td>\n",
       "    </tr>\n",
       "    <tr>\n",
       "      <th>3</th>\n",
       "      <td>2</td>\n",
       "      <td>젊은 시절에 가정에 소홀했지. 그래도 그렇지 이혼을 하자니 너무 허망해.</td>\n",
       "    </tr>\n",
       "    <tr>\n",
       "      <th>4</th>\n",
       "      <td>2</td>\n",
       "      <td>정말이지 막막해.</td>\n",
       "    </tr>\n",
       "  </tbody>\n",
       "</table>\n",
       "</div>"
      ],
      "text/plain": [
       "   label                                      text\n",
       "0      0               오늘부터 연휴가 시작됐거든. 내일 회사 안 간다.\n",
       "1      0     응. 언니에게 꽃다발을 선물할 거야. 예쁜 딸이면 좋을 것 같아서.\n",
       "2      1               딱히 이유는 없어. 그냥 나 혼자 불안한 상태야.\n",
       "3      2  젊은 시절에 가정에 소홀했지. 그래도 그렇지 이혼을 하자니 너무 허망해.\n",
       "4      2                                 정말이지 막막해."
      ]
     },
     "execution_count": 141,
     "metadata": {},
     "output_type": "execute_result"
    }
   ],
   "source": [
    "data3 = pd.DataFrame()\n",
    "data3['label'] = dataset['sentiment_big'].map(sentimential_list)\n",
    "data3['text'] = dataset['person2']\n",
    "data3.reset_index()\n",
    "data3.head()"
   ]
  },
  {
   "cell_type": "code",
   "execution_count": 142,
   "id": "6b56e2a4",
   "metadata": {},
   "outputs": [
    {
     "data": {
      "text/plain": [
       "1    36194\n",
       "2    26213\n",
       "0    12449\n",
       "Name: label, dtype: int64"
      ]
     },
     "execution_count": 142,
     "metadata": {},
     "output_type": "execute_result"
    }
   ],
   "source": [
    "# 데이터 분포\n",
    "# data1 data2 data3 모두 동일\n",
    "data1['label'].value_counts()"
   ]
  },
  {
   "cell_type": "code",
   "execution_count": 143,
   "id": "4932d436",
   "metadata": {},
   "outputs": [],
   "source": [
    "import re\n",
    "\n",
    "data1 = data1.fillna(\" \")\n",
    "data1['text'] = data1['text'].apply(lambda x:re.sub(r\"\\d+\",\" \",x))\n",
    "\n",
    "x = data1['text']\n",
    "y = data1['label']\n",
    "\n",
    "x_train, x_test, y_train, y_test = train_test_split(x,y, stratify = y, test_size=0.2)\n",
    "\n",
    "from konlpy.tag import Okt\n",
    "\n",
    "okt = Okt()\n",
    "def tw_tokenizer(text) :\n",
    "    tokens_ko = okt.morphs(text)\n",
    "    return tokens_ko"
   ]
  },
  {
   "cell_type": "code",
   "execution_count": 144,
   "id": "8267f3bd",
   "metadata": {},
   "outputs": [
    {
     "name": "stderr",
     "output_type": "stream",
     "text": [
      "C:\\Users\\sapb2\\anaconda3\\lib\\site-packages\\sklearn\\feature_extraction\\text.py:516: UserWarning: The parameter 'token_pattern' will not be used since 'tokenizer' is not None'\n",
      "  warnings.warn(\n"
     ]
    }
   ],
   "source": [
    "from sklearn.feature_extraction.text import TfidfVectorizer\n",
    "\n",
    "tfidf_vect = TfidfVectorizer(tokenizer= tw_tokenizer, ngram_range=(1,2), min_df=3, max_df=0.9)\n",
    "tfidf_vect.fit(x_train)\n",
    "tfidf_matrix_train = tfidf_vect.transform(x_train)"
   ]
  },
  {
   "cell_type": "code",
   "execution_count": 145,
   "id": "a4199851",
   "metadata": {},
   "outputs": [
    {
     "name": "stdout",
     "output_type": "stream",
     "text": [
      "fit time : 54.54272794723511\n"
     ]
    }
   ],
   "source": [
    "from lightgbm import LGBMClassifier\n",
    "import time\n",
    "\n",
    "#lightgbm  leaf-wise : loss를 줄일 수 있음\n",
    "\n",
    "start_time = time.time()\n",
    "\n",
    "# 과적합제어하기 위해 reg_lambda, reg_alpha 적용\n",
    "lgbm_clf = LGBMClassifier(n_estimators= 400, n_jobs=-1, reg_alpha = 0.9, reg_lambda = 0.2)\n",
    "lgbm_clf.fit(tfidf_matrix_train, y_train)\n",
    "print(f'fit time : {time.time() - start_time}')"
   ]
  },
  {
   "cell_type": "code",
   "execution_count": 146,
   "id": "d71cec96",
   "metadata": {},
   "outputs": [
    {
     "data": {
      "text/plain": [
       "0.7075874966604329"
      ]
     },
     "execution_count": 146,
     "metadata": {},
     "output_type": "execute_result"
    }
   ],
   "source": [
    "from sklearn.metrics import accuracy_score\n",
    "\n",
    "tfidf_matrix_test = tfidf_vect.transform(x_test)\n",
    "preds = lgbm_clf.predict(tfidf_matrix_test)\n",
    "pred_proba = lgbm_clf.predict_proba(tfidf_matrix_test)\n",
    "\n",
    "accuracy_score(y_test, preds)"
   ]
  },
  {
   "cell_type": "code",
   "execution_count": 147,
   "id": "707cc0c0",
   "metadata": {},
   "outputs": [
    {
     "name": "stdout",
     "output_type": "stream",
     "text": [
      "LGBM Classifier\n",
      "\n",
      "[[1616  615  259]\n",
      " [ 181 5901 1157]\n",
      " [ 162 2004 3077]]\n",
      "정확도: 0.7076\n",
      "정밀도: 0.7119\n",
      "재현율: 0.7076\n",
      "f1: 0.7043\n"
     ]
    }
   ],
   "source": [
    "from sklearn.metrics import confusion_matrix, accuracy_score\n",
    "from sklearn.metrics import precision_score, recall_score\n",
    "from sklearn.metrics import f1_score, roc_auc_score\n",
    "\n",
    "confusion = confusion_matrix(y_test, preds)\n",
    "accuracy = accuracy_score(y_test, preds)\n",
    "precision = precision_score(y_test, preds, average='weighted')\n",
    "recall = recall_score(y_test, preds, average='weighted')\n",
    "f1 = f1_score(y_test, preds, average='weighted')\n",
    "\n",
    "print(\"LGBM Classifier\\n\")\n",
    "print(confusion)\n",
    "print('정확도: {0:.4f}\\n정밀도: {1:.4f}\\n재현율: {2:.4f}\\nf1: {3:.4f}'\n",
    "      .format(accuracy,precision,recall,f1))"
   ]
  },
  {
   "cell_type": "markdown",
   "id": "e557de67",
   "metadata": {},
   "source": [
    "<p> 0 : 기쁨 행복</p>\n",
    "<p> 1 : 분노 불안 당황 놀람</p>\n",
    "<p> 2: 슬픔 상처 </p>"
   ]
  },
  {
   "cell_type": "code",
   "execution_count": 206,
   "id": "6e94994e",
   "metadata": {},
   "outputs": [],
   "source": [
    "x_test = \"ㅜㅜ\""
   ]
  },
  {
   "cell_type": "code",
   "execution_count": 207,
   "id": "720d8322",
   "metadata": {},
   "outputs": [
    {
     "data": {
      "text/plain": [
       "array([1], dtype=int64)"
      ]
     },
     "execution_count": 207,
     "metadata": {},
     "output_type": "execute_result"
    }
   ],
   "source": [
    "lgbm_clf.predict(tfidf_vect.transform([x_test]))"
   ]
  },
  {
   "cell_type": "markdown",
   "id": "1b22ac5e",
   "metadata": {},
   "source": [
    "## 다양한 분류 기법 비교"
   ]
  },
  {
   "cell_type": "code",
   "execution_count": 106,
   "id": "c4d95dbe",
   "metadata": {},
   "outputs": [],
   "source": [
    "# 1. Decision tree\n",
    "from sklearn.tree import DecisionTreeClassifier\n",
    "\n",
    "# 예제 반복 시 마다 동일한 예측 결과 도출을 위해 random_state 설정\n",
    "dt_clf = DecisionTreeClassifier(random_state=156)\n",
    "dt_clf.fit(tfidf_matrix_train, y_train)\n",
    "pred = dt_clf.predict(tfidf_matrix_test)"
   ]
  },
  {
   "cell_type": "code",
   "execution_count": 107,
   "id": "43565aae",
   "metadata": {},
   "outputs": [
    {
     "name": "stdout",
     "output_type": "stream",
     "text": [
      "DecisionTree Classifier\n",
      "\n",
      "정확도: 0.7008\n",
      "정밀도: 0.7051\n",
      "재현율: 0.7008\n",
      "f1: 0.6972\n"
     ]
    }
   ],
   "source": [
    "accuracy = accuracy_score(y_test, preds)\n",
    "precision = precision_score(y_test, preds, average='weighted')\n",
    "recall = recall_score(y_test, preds, average='weighted')\n",
    "f1 = f1_score(y_test, preds, average='weighted')\n",
    "print(\"DecisionTree Classifier\\n\")\n",
    "print('정확도: {0:.4f}\\n정밀도: {1:.4f}\\n재현율: {2:.4f}\\nf1: {3:.4f}'.format(accuracy,precision,recall,f1))"
   ]
  },
  {
   "cell_type": "code",
   "execution_count": 108,
   "id": "d8b50855",
   "metadata": {},
   "outputs": [],
   "source": [
    "# 2. RandomForest\n",
    "from sklearn.ensemble import RandomForestClassifier\n",
    "\n",
    "rf_clf = RandomForestClassifier(random_state=156)\n",
    "rf_clf.fit(tfidf_matrix_train, y_train)\n",
    "pred = dt_clf.predict(tfidf_matrix_test)"
   ]
  },
  {
   "cell_type": "code",
   "execution_count": 109,
   "id": "2b22303a",
   "metadata": {},
   "outputs": [
    {
     "name": "stdout",
     "output_type": "stream",
     "text": [
      "RandomForest Classifier \n",
      "\n",
      "정확도: 0.7008\n",
      "정밀도: 0.7051\n",
      "재현율: 0.7008\n",
      "f1: 0.6972\n"
     ]
    }
   ],
   "source": [
    "accuracy = accuracy_score(y_test, preds)\n",
    "precision = precision_score(y_test, preds, average='weighted')\n",
    "recall = recall_score(y_test, preds, average='weighted')\n",
    "f1 = f1_score(y_test, preds, average='weighted')\n",
    "print(\"RandomForest Classifier \\n\")\n",
    "print('정확도: {0:.4f}\\n정밀도: {1:.4f}\\n재현율: {2:.4f}\\nf1: {3:.4f}'.format(accuracy,precision,recall,f1))"
   ]
  },
  {
   "cell_type": "code",
   "execution_count": 110,
   "id": "8162dd97",
   "metadata": {},
   "outputs": [],
   "source": [
    "# 3. GBM \n",
    "from sklearn.ensemble import GradientBoostingClassifier\n",
    "\n",
    "gb_clf = GradientBoostingClassifier(random_state=0)\n",
    "gb_clf.fit(tfidf_matrix_train, y_train)\n",
    "gb_pred= gb_clf.predict(tfidf_matrix_test)"
   ]
  },
  {
   "cell_type": "code",
   "execution_count": 111,
   "id": "e129599e",
   "metadata": {},
   "outputs": [
    {
     "name": "stdout",
     "output_type": "stream",
     "text": [
      "radientBoosting Classifier \n",
      "\n",
      "정확도: 0.7008\n",
      "정밀도: 0.7051\n",
      "재현율: 0.7008\n",
      "f1: 0.6972\n"
     ]
    }
   ],
   "source": [
    "accuracy = accuracy_score(y_test, preds)\n",
    "precision = precision_score(y_test, preds, average='weighted')\n",
    "recall = recall_score(y_test, preds, average='weighted')\n",
    "f1 = f1_score(y_test, preds, average='weighted')\n",
    "print(\"radientBoosting Classifier \\n\")\n",
    "print('정확도: {0:.4f}\\n정밀도: {1:.4f}\\n재현율: {2:.4f}\\nf1: {3:.4f}'.format(accuracy,precision,recall,f1))"
   ]
  },
  {
   "cell_type": "code",
   "execution_count": null,
   "id": "24702492",
   "metadata": {},
   "outputs": [],
   "source": []
  },
  {
   "cell_type": "code",
   "execution_count": null,
   "id": "f3b304cb",
   "metadata": {},
   "outputs": [],
   "source": []
  },
  {
   "cell_type": "markdown",
   "id": "6d79e7f4",
   "metadata": {},
   "source": [
    "<p> 0 : 기쁨 행복</p>\n",
    "<p> 1 : 분노 불안 당황 놀람</p>\n",
    "<p> 2: 슬픔 상처 </p>"
   ]
  },
  {
   "cell_type": "code",
   "execution_count": 112,
   "id": "df3a0e1e",
   "metadata": {},
   "outputs": [
    {
     "data": {
      "text/html": [
       "<div>\n",
       "<style scoped>\n",
       "    .dataframe tbody tr th:only-of-type {\n",
       "        vertical-align: middle;\n",
       "    }\n",
       "\n",
       "    .dataframe tbody tr th {\n",
       "        vertical-align: top;\n",
       "    }\n",
       "\n",
       "    .dataframe thead th {\n",
       "        text-align: right;\n",
       "    }\n",
       "</style>\n",
       "<table border=\"1\" class=\"dataframe\">\n",
       "  <thead>\n",
       "    <tr style=\"text-align: right;\">\n",
       "      <th></th>\n",
       "      <th>label</th>\n",
       "      <th>text</th>\n",
       "    </tr>\n",
       "  </thead>\n",
       "  <tbody>\n",
       "    <tr>\n",
       "      <th>0</th>\n",
       "      <td>0</td>\n",
       "      <td>지금 난 기분이 너무 좋아.</td>\n",
       "    </tr>\n",
       "    <tr>\n",
       "      <th>1</th>\n",
       "      <td>0</td>\n",
       "      <td>나도 조카가 생겨! 너무 기뻐.</td>\n",
       "    </tr>\n",
       "    <tr>\n",
       "      <th>2</th>\n",
       "      <td>1</td>\n",
       "      <td>거래처와의 다음 계약이 무산될까봐 불안해.</td>\n",
       "    </tr>\n",
       "    <tr>\n",
       "      <th>3</th>\n",
       "      <td>2</td>\n",
       "      <td>당뇨로 고생 중인데 아내가 이혼하자더군. 아내가 날 버리면 병은 더 악화될 텐데 세...</td>\n",
       "    </tr>\n",
       "    <tr>\n",
       "      <th>4</th>\n",
       "      <td>2</td>\n",
       "      <td>노년에 재정적으로 이루어 놓은게 없어서 걱정이야.</td>\n",
       "    </tr>\n",
       "  </tbody>\n",
       "</table>\n",
       "</div>"
      ],
      "text/plain": [
       "   label                                               text\n",
       "0      0                                    지금 난 기분이 너무 좋아.\n",
       "1      0                                  나도 조카가 생겨! 너무 기뻐.\n",
       "2      1                            거래처와의 다음 계약이 무산될까봐 불안해.\n",
       "3      2  당뇨로 고생 중인데 아내가 이혼하자더군. 아내가 날 버리면 병은 더 악화될 텐데 세...\n",
       "4      2                        노년에 재정적으로 이루어 놓은게 없어서 걱정이야."
      ]
     },
     "execution_count": 112,
     "metadata": {},
     "output_type": "execute_result"
    }
   ],
   "source": [
    "data1.head()"
   ]
  },
  {
   "cell_type": "markdown",
   "id": "418d7660",
   "metadata": {},
   "source": [
    "# confusion matrix\n",
    "\n",
    "[[1656  584  250] <br>\n",
    "[ 177 5885 1177]<br>\n",
    "[ 143 2133 2967]]\n",
    "\n",
    "정확도: 0.7018<br>\n",
    "정밀도: 0.7066<br>\n",
    "재현율: 0.7018<br>\n",
    "f1: 0.7018<br>"
   ]
  },
  {
   "cell_type": "code",
   "execution_count": null,
   "id": "c4e1c57f",
   "metadata": {},
   "outputs": [],
   "source": []
  },
  {
   "cell_type": "code",
   "execution_count": null,
   "id": "69480673",
   "metadata": {},
   "outputs": [],
   "source": []
  }
 ],
 "metadata": {
  "kernelspec": {
   "display_name": "Python 3 (ipykernel)",
   "language": "python",
   "name": "python3"
  },
  "language_info": {
   "codemirror_mode": {
    "name": "ipython",
    "version": 3
   },
   "file_extension": ".py",
   "mimetype": "text/x-python",
   "name": "python",
   "nbconvert_exporter": "python",
   "pygments_lexer": "ipython3",
   "version": "3.8.8"
  }
 },
 "nbformat": 4,
 "nbformat_minor": 5
}
